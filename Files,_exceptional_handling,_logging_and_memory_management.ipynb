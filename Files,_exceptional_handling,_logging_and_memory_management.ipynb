{
  "nbformat": 4,
  "nbformat_minor": 0,
  "metadata": {
    "colab": {
      "provenance": []
    },
    "kernelspec": {
      "name": "python3",
      "display_name": "Python 3"
    },
    "language_info": {
      "name": "python"
    }
  },
  "cells": [
    {
      "cell_type": "markdown",
      "source": [
        "#**Theoretical Questions:**"
      ],
      "metadata": {
        "id": "5Z3DHlKqesoC"
      }
    },
    {
      "cell_type": "markdown",
      "source": [
        "#1. What is the difference between interpreted and compiled languages?\n",
        " - Difference between interpreted and compiled languages:         \n",
        "   **Interpreted Language** :                          \n",
        "      - The code is executed line-by-line by an interpreter.\n",
        "      - Programs tend to be more portable across different systems but many run slower compared to compiled languages.\n",
        "   \n",
        "   **Compiled Language** :                                  \n",
        "      - The code is translated into machine language by a complier before execution, creating an executable file.\n",
        "      - Once compiled, programs usually run faster but many require recompilation for differnt systems."
      ],
      "metadata": {
        "id": "dB7On3ESezEr"
      }
    },
    {
      "cell_type": "markdown",
      "source": [
        "#2. What is exception handling in Python?\n",
        " - Exception handling in Python is a mechanism to handle errors or exceptional situations that might occur during the execution of a program. It allows the program to deal with errors gracefully instead of crashing."
      ],
      "metadata": {
        "id": "TE-EefawgGHC"
      }
    },
    {
      "cell_type": "markdown",
      "source": [
        "#3. What is the purpose of the finally block in exception handling?\n",
        " - The `finally` block in exception handling is used to define a piece of code that will always execute, regardless of whether an exception was raised or not. Its main purpose is to ensure that important cleanup tasks or final actions are performed, such as closing files, releasing resources, or disconnecting from a database."
      ],
      "metadata": {
        "id": "wMeA5-E7gY-m"
      }
    },
    {
      "cell_type": "markdown",
      "source": [
        "#4. What is logging in Python?\n",
        " - Logging in Python is a mechanism that allows developers to record messages, errors, or events during the execution of a program. It is especially useful for debugging, tracking the behavior of applications, and monitoring their performance. The logging module in Python provides a flexible and powerful framework for logging."
      ],
      "metadata": {
        "id": "v25rgx_oglVb"
      }
    },
    {
      "cell_type": "markdown",
      "source": [
        "#5. What is the significance of the __del__ method in Python?\n",
        " - The `__del__` method in Python is a special method, also known as a destructor, that is called when an object is about to be destroyed. Its primary purpose is to perform cleanup actions, such as releasing resources (e.g., closing files or network connections) or executing any finalization code before the object is removed from memory by Python's garbage collector."
      ],
      "metadata": {
        "id": "jFibb9IGgvr-"
      }
    },
    {
      "cell_type": "markdown",
      "source": [
        "#6. What is the difference between import and from ... import in Python?\n",
        " - Difference between import and from ... import in Python:              \n",
        "  **Import** :                     \n",
        "    - Imports the entire module.\n",
        "    - You need to use the module name as a prefix when accessing its functions, classes, or variables.\n",
        "\n",
        "  **from ... import** :                                         \n",
        "    - Imports specific attributes(functions, classes, or variables) from a module.\n",
        "    - You don't need to use the module name as a prefix; instead, you can directly use the imported attributes."
      ],
      "metadata": {
        "id": "giStKJCug7fH"
      }
    },
    {
      "cell_type": "markdown",
      "source": [
        "#7. How can you handle multiple exceptions in Python?\n",
        " - In Python, you can handle multiple exceptions by using multiple `except` blocks or by grouping exceptions together in a single `except` block. Here's how you can do it:               \n",
        " 1. **Using multiple `expect` blocks**\n",
        " 2. **Grouping exceptions in a single block**\n",
        " 3. **Using a base exception class**"
      ],
      "metadata": {
        "id": "U8wAirfHkDJp"
      }
    },
    {
      "cell_type": "markdown",
      "source": [
        "#8. What is the purpose of the with statement when handling files in Python?\n",
        " - The `with` statement in Python is used to simplify file handling and ensure proper resource management, particularly when working with files. Its primary purpose is to automatically manage the opening and closing of a file, even if an error occurs during the execution of the block. This helps to avoid resource leaks and makes your code more concise and readable.  \n",
        "  **How it works**:                                          \n",
        "  - When you open a file using the with statement, it automatically calls the file's `__enter__` method when the block begins and the `__exit__` method when the block ends.\n",
        "  - You don't need to explicitly close the file—it is done automatically when the block is exited."
      ],
      "metadata": {
        "id": "fc59XHQglTAr"
      }
    },
    {
      "cell_type": "markdown",
      "source": [
        "#9. What is the difference between multithreading and multiprocessing?\n",
        " - Difference between multithreading and multiprocessing:\n",
        "\n",
        "  **Multithreading:**                                             \n",
        "  - Multithreading allows multiple threads (smaller units of a process) to run concurrently within a single process.\n",
        "  - Parallelism: Threads share the same memory space, so they don’t provide true parallel execution in CPU-bound tasks due to Python's Global Interpreter Lock (GIL).                \n",
        "  - Use Case: Best suited for I/O-bound tasks (e.g., file I/O, network communication), where threads can work independently without competing for CPU time.\n",
        "   \n",
        "   **Multiprocessing:**                           \n",
        "   - Multiprocessing creates separate processes, with each process having its own memory space.\n",
        "   - Parallelism: True parallel execution can be achieved because each process runs independently and can utilize multiple CPU cores.\n",
        "  - Use Case: Ideal for CPU-bound tasks (e.g., mathematical computations, data processing) where parallel execution improves performance."
      ],
      "metadata": {
        "id": "KmjLT75smCAm"
      }
    },
    {
      "cell_type": "markdown",
      "source": [
        "#10. What are the advantages of using logging in a program?\n",
        " - Logging in a program provides numerous advantages, especially when it comes to debugging, monitoring, and maintaining your code. Here's why logging is beneficial:                          \n",
        " 1. Debugging and Troubleshooting\n",
        " 2. Monitoring Application\n",
        " 3. Error Tracking and Reporting\n",
        " 4. Auditing and Accountability\n",
        " 5. Maintenance and Development\n",
        " 6. Flexibility with Log Levels\n",
        " 7. Automation and Analysis\n",
        " 8. Resource-Friendly"
      ],
      "metadata": {
        "id": "b-CKjobJndre"
      }
    },
    {
      "cell_type": "markdown",
      "source": [
        "#11. What is memory management in Python?\n",
        " - Memory management in Python refers to the process by which the Python interpreter handles the allocation and deallocation of memory for Python objects.                             \n",
        " Here are the key aspects of Python's memory management:\n",
        " 1. Dynamic Memory Allocation\n",
        " 2. Garbage Collection\n",
        " 3. Reference Counting\n",
        " 4. Memory Pools\n",
        " 5. Virtual Machine"
      ],
      "metadata": {
        "id": "aLDG-7UwoPso"
      }
    },
    {
      "cell_type": "markdown",
      "source": [
        "#12. What are the basic steps involved in exception handling in Python?\n",
        " - The basic steps involved in exception handling in Python ensure that your program can gracefully handle errors and continue running smoothly. Here's how it works:\n",
        "\n",
        "1. **Using the try block:** Place the code that might cause an exception inside a try block. This is where you anticipate potential errors.\n",
        "2. **Catching exceptions with except:** Use one or more except blocks to handle specific exceptions or a general exception. This is where you define how to respond to different types of errors.\n",
        "3. **Adding optional else:** Include an else block (optional) to define the code to execute if no exceptions were raised.\n",
        "4. **Cleaning up with finally:** Use the finally block (optional) to specify code that will execute regardless of whether an exception occurred or not. It's commonly used for cleanup actions like closing files or releasing resources."
      ],
      "metadata": {
        "id": "hSAjhSP2N6o4"
      }
    },
    {
      "cell_type": "markdown",
      "source": [
        "#13. Why is memory management important in Python?\n",
        " - Memory management is crucial in Python (and any programming language) to ensure efficient use of system resources and optimal program performance. Here are some reasons why memory management is important:                                   \n",
        " 1. Prevents Memory Leaks\n",
        " 2. Optimizes Resource Use\n",
        " 3. Supports Scalability\n",
        " 4. Automatic Garbage Collection\n",
        " 5. Prevents Crashes\n",
        " 6. Improves Development Productivity"
      ],
      "metadata": {
        "id": "LuGhZ2oVOm8E"
      }
    },
    {
      "cell_type": "markdown",
      "source": [
        "#14. What is the role of try and except in exception handling?\n",
        " - The `try`and `except` blocks in Python play a key role in handling exceptions and ensuring your program runs smoothly, even when errors occur. Here's how they work:               \n",
        " 1. **The `try` Block:** This is where you place the code that might raise an exception. It allows you to test a piece of code for potential errors.\n",
        " 2. **The `except` Block:** If an exception is raised in the try block, the code in the except block is executed. This is where you handle the error gracefully and take appropriate action.\n"
      ],
      "metadata": {
        "id": "aIz7E1zgPEFG"
      }
    },
    {
      "cell_type": "markdown",
      "source": [
        "#15.How does Python's garbage collection system work?\n",
        " - Python's garbage collection system is responsible for automatically managing memory by reclaiming unused memory and cleaning up unreferenced objects. Here's how it works:\n",
        "\n",
        "1. Reference Counting: Every object in Python has a reference count, which keeps track of how many variables or data structures are referencing the object.\n",
        "\n",
        "2. Handling Cyclic References: Reference counting alone cannot manage objects involved in cyclic references (e.g., two objects referencing each other).\n",
        "\n",
        "3. Generational Garbage Collection: Python's garbage collector categorizes objects into three generations: Generation 0 (youngest), Generation 1, and Generation 2 (oldest).\n",
        "\n",
        "4. Manual Trigger: While the garbage collector runs automatically, developers can manually invoke it using the `gc` module.\n",
        "\n"
      ],
      "metadata": {
        "id": "CAb0p2PePhUu"
      }
    },
    {
      "cell_type": "markdown",
      "source": [
        "#16. What is the purpose of the else block in exception handling?\n",
        " - The purpose of the `else` block in Python's exception handling is to specify code that should execute only if no exceptions are raised within the `try` block. It provides a way to separate \"successful\" code execution from error-handling logic, making your program's flow clearer and more readable."
      ],
      "metadata": {
        "id": "wabNqu2DP_0B"
      }
    },
    {
      "cell_type": "markdown",
      "source": [
        "#17. What are the common logging levels in Python?\n",
        " - In Python, the `logging` module provides several predefined logging levels to categorize the severity of log messages. These levels help developers understand the context and urgency of the messages. Here are the common logging levels, in increasing order of severity:                            \n",
        " 1. **DEBUG**\n",
        " 2. **INFO**\n",
        " 3. **WARNING**\n",
        " 4. **ERROR**\n",
        " 5. **CRITICAL**\n"
      ],
      "metadata": {
        "id": "iXSWOi3hQk0o"
      }
    },
    {
      "cell_type": "markdown",
      "source": [
        "#18. What is the difference between os.fork() and multiprocessing in Python?\n",
        " - Different between `os.fork()` and the `multiprocessing` in Python.                                                     \n",
        "\n",
        " 1. **`os.fork()`:**\n",
        "    - It creates a child process by duplicating the current process. It directly calls the underlying operating system's fork system call.\n",
        "    - It only works on Unix-like operating systems(e.g., Linux, macOS). It is not available on windows.\n",
        "    - It's a low-level way to create processes, and managing inter-process communication(IPC) or shared resources must be implemented manually.\n",
        "    - It is useful when you need simple forking without additional abstractions or frameworks.\n",
        "\n",
        "  2. **`Multiprocessing`:**\n",
        "    - It provides a higher-level API for creating and managing processes. It abstracts process creation, IPC, and synchronization, making it easier to use.\n",
        "    - It works on both Unix and Windows, which makes its more versatile.\n",
        "    - It includes features like process pools, shared memory, queues, and pipes, which simplify IPC and process management.\n",
        "    - It is ideal for writing cross-platform parallel and concurrent applications."
      ],
      "metadata": {
        "id": "OXQKXVsIRHZA"
      }
    },
    {
      "cell_type": "markdown",
      "source": [
        "#19. What is the importance of closing a file in Python?\n",
        " - Closing a file in Python is essential for properly managing resources and ensuring smooth program execution. Here are some reasons why it's important:\n",
        "\n",
        " 1. **Releases Resources:** When you close a file, it releases the resources (like memory or file descriptors) associated with that file back to the operating system.\n",
        "\n",
        " 2. **Avoids Data Loss:** Closing a file ensures that any data written to the file is properly saved. In some cases, data might still be in the buffer and not written to the disk until the file is closed.\n",
        "\n",
        " 3. **Prevents File Corruption:** Leaving a file open for an extended period without closing it may lead to file corruption or unexpected behavior, especially when the program crashes or terminates abruptly.\n",
        "\n",
        " 4. **Ensures Cross-Platform Compatibility:** On some operating systems, unclosed files might remain locked, preventing other programs or processes from accessing them."
      ],
      "metadata": {
        "id": "_ML906UvT0vS"
      }
    },
    {
      "cell_type": "markdown",
      "source": [
        "#20. What is the difference between file.read() and file.readline() in Python?\n",
        " - Difference between file.read() and file.readline() in Python:\n",
        "\n",
        " 1. **`File.read()`:**                                     \n",
        "    - It reads the entire contents of the file into a single string.\n",
        "    - It is useful when you want to process the entire file at once.\n",
        "    - For very large files, it may consume a significant amount of memory since the entire content is loaded at once.\n",
        "\n",
        " 2.  **`file.readline()`:**                                   \n",
        "   - It reads a single line from the file, stopping at the newline character (`\\n`).\n",
        "   - It is ideal for processing files line by line, especially when the file is large, as it saves memory.\n",
        "   - It reads and processes only one line at a time, making it efficient for large files."
      ],
      "metadata": {
        "id": "KNdxU9x-UaLH"
      }
    },
    {
      "cell_type": "markdown",
      "source": [
        "#21. What is the logging module in Python used for?\n",
        " - The `logging` module in Python is used to track events and messages that occur during program execution. It is a robust and flexible system for adding log statements to your code, which can help you monitor its behavior, debug issues, and maintain better control over your application.                         \n",
        "  Here's why it's useful:                                    \n",
        "  1. **Record Events**\n",
        "  2. **Debugging**\n",
        "  3. **Customizable Logging Levels**\n",
        "  4. **Flexible Output**\n",
        "  5. **Persistance**"
      ],
      "metadata": {
        "id": "00HlnAhKVj1x"
      }
    },
    {
      "cell_type": "markdown",
      "source": [
        "#22. What is the os module in Python used for in file handling?\n",
        " - The `os` module in Python provides a variety of functions to interact with the operating system and perform file handling tasks. It simplifies managing files and directories programmatically.                \n",
        " Here's how the os module is used in file handling:             \n",
        " 1. **Creating Files and Directories**\n",
        " 2. **Navigating Directories**\n",
        " 3. **Listing Directory Contents**\n",
        " 4. **Removing Files and Directories**\n",
        " 5. **Renaming or Moving Files**\n",
        " 6. **Checking File Properties**\n",
        " 7. **File Permissions**"
      ],
      "metadata": {
        "id": "naD_f1whWNPx"
      }
    },
    {
      "cell_type": "markdown",
      "source": [
        "#23. What are the challenges associated with memory management in Python?\n",
        " - Challanges associated with memory management in Python:   \n",
        "\n",
        " 1. **Cyclic References:**\n",
        "    - Objects that reference each other can create cycles, which are not handled by Python's reference counting mechanism. While the garbage collector can address these cycles, identifying and cleaning them can still be a performance overhead.\n",
        "\n",
        "  2. **Memory Leaks:**                \n",
        "   - Memory leaks can occur when objects remain unintentionally referenced, preventing the garbage collector from reclaiming their memory. This can happen due to circular references or improper use of global variables.\n",
        "\n",
        "  3. **Large Objects in Memory:**                             \n",
        "   - Managing large datasets or objects can lead to excessive memory consumption, especially if memory isn't released promptly.\n",
        "\n",
        "  4. **Fragmentation:**                           \n",
        "    -  Python's memory manager may fragment memory over time, leading to inefficient utilization of available resources.\n",
        "\n",
        "  And many more challenges are associated with memory management.  "
      ],
      "metadata": {
        "id": "2dayx8ozXSCl"
      }
    },
    {
      "cell_type": "markdown",
      "source": [
        "#24. How do you raise an exception manually in Python?\n",
        " - To raise an exception manually in Python, you use the `raise` statement. This allows you to trigger an exception intentionally, specifying the type of exception to raise and, optionally, providing a custom error message."
      ],
      "metadata": {
        "id": "evRSkV-2Yb6o"
      }
    },
    {
      "cell_type": "markdown",
      "source": [
        "#25. Why is it important to use multithreading in certain applications?\n",
        " - Multithreading is important in certain applications because it allows for efficient utilization of system resources and improves the performance of programs by enabling concurrent execution. Here are some reasons why multithreading is valuable:\n",
        " 1. **Concurrency**\n",
        " 2. **Responsiveness**\n",
        " 3. **Efficient Resource Utilization**\n",
        " 4. **I/O-Bound Operations**\n",
        " 5. **Cost-Effectiveness**"
      ],
      "metadata": {
        "id": "aKSOoDPyYxWA"
      }
    },
    {
      "cell_type": "markdown",
      "source": [
        "#**Practical Questions:**"
      ],
      "metadata": {
        "id": "YVKYfD7rZT36"
      }
    },
    {
      "cell_type": "markdown",
      "source": [
        "#1. How can you open a file for writing in Python and write a string to it?\n"
      ],
      "metadata": {
        "id": "wc43WyqrZcGx"
      }
    },
    {
      "cell_type": "code",
      "source": [
        "def write_string_to_file(file_path, data):\n",
        "    try:\n",
        "        with open(file_path, 'w') as file:\n",
        "            file.write(data)\n",
        "        print(f\"Successfully wrote to the file '{file_path}'.\")\n",
        "    except PermissionError:\n",
        "        print(f\"Error: Insufficient permissions to write to the file '{file_path}'.\")\n",
        "    except Exception as e:\n",
        "        print(f\"An unexpected error occurred: {str(e)}\")\n",
        "\n",
        "file_path = 'example.txt'\n",
        "data = \"This is the content of the file.\"\n",
        "write_string_to_file(file_path, data)\n",
        "\n"
      ],
      "metadata": {
        "id": "Y6WRJsOzxj4V",
        "colab": {
          "base_uri": "https://localhost:8080/"
        },
        "outputId": "0e8804e0-2d21-4d25-b253-80b45b1274d7"
      },
      "execution_count": 13,
      "outputs": [
        {
          "output_type": "stream",
          "name": "stdout",
          "text": [
            "Successfully wrote to the file 'example.txt'.\n"
          ]
        }
      ]
    },
    {
      "cell_type": "markdown",
      "source": [
        "#2. Write a Python program to read the contents of a file and print each line?\n"
      ],
      "metadata": {
        "id": "LJAkvIFlx1zF"
      }
    },
    {
      "cell_type": "code",
      "source": [
        "with open(\"example.txt\", \"r\") as file:\n",
        "    for line in file:\n",
        "        print(line.strip())\n"
      ],
      "metadata": {
        "colab": {
          "base_uri": "https://localhost:8080/"
        },
        "id": "dXgzdR9gx8Jd",
        "outputId": "d58315b1-3fbe-47aa-a74d-0415ad48591c"
      },
      "execution_count": null,
      "outputs": [
        {
          "output_type": "stream",
          "name": "stdout",
          "text": [
            "Hello, world!\n"
          ]
        }
      ]
    },
    {
      "cell_type": "markdown",
      "source": [
        "#3. How would you handle a case where the file doesn't exist while trying to open it for reading?\n"
      ],
      "metadata": {
        "id": "74ryrCCwyz0U"
      }
    },
    {
      "cell_type": "code",
      "source": [
        "try:\n",
        "    with open(\"non_existent_file.txt\", \"r\") as file:\n",
        "        contents = file.read()\n",
        "        print(contents)\n",
        "except FileNotFoundError:\n",
        "    print(\"The file does not exist. Please check the file name or path.\")\n"
      ],
      "metadata": {
        "colab": {
          "base_uri": "https://localhost:8080/"
        },
        "id": "uq35JEhlyPDr",
        "outputId": "d4588784-723e-4c5f-db0c-a97f2b4b087b"
      },
      "execution_count": null,
      "outputs": [
        {
          "output_type": "stream",
          "name": "stdout",
          "text": [
            "The file does not exist. Please check the file name or path.\n"
          ]
        }
      ]
    },
    {
      "cell_type": "markdown",
      "source": [
        "#4. Write a Python script that reads from one file and writes its content to another file."
      ],
      "metadata": {
        "id": "6YLfbcWUzDYb"
      }
    },
    {
      "cell_type": "code",
      "source": [
        "def copy_file_content(source_file, destination_file):\n",
        "    try:\n",
        "        with open(source_file, 'r') as source, open(destination_file, 'w') as destination:\n",
        "            for line in source:\n",
        "                destination.write(line)\n",
        "\n",
        "        print(f\"Content successfully copied from '{source_file}' to '{destination_file}'.\")\n",
        "    except FileNotFoundError:\n",
        "        print(f\"Error: The file '{source_file}' does not exist.\")\n",
        "    except PermissionError:\n",
        "        print(f\"Error: Insufficient permissions to read or write files.\")\n",
        "    except Exception as e:\n",
        "        print(f\"An unexpected error occurred: {str(e)}\")\n",
        "\n",
        "source_file = 'source.txt'\n",
        "destination_file = 'destination.txt'\n",
        "copy_file_content(source_file, destination_file)\n"
      ],
      "metadata": {
        "colab": {
          "base_uri": "https://localhost:8080/"
        },
        "id": "fURIk9WNy_-i",
        "outputId": "1dedf8a5-0ba2-4b98-ed95-5b24b9f7828d"
      },
      "execution_count": 12,
      "outputs": [
        {
          "output_type": "stream",
          "name": "stdout",
          "text": [
            "Error: The file 'source.txt' does not exist.\n"
          ]
        }
      ]
    },
    {
      "cell_type": "markdown",
      "source": [
        "#5. How would you catch and handle division by zero error in Python?\n"
      ],
      "metadata": {
        "id": "qCRUGqwn0Cke"
      }
    },
    {
      "cell_type": "code",
      "source": [
        "try:\n",
        "    result = 10 / 0\n",
        "    print(\"Result:\", result)\n",
        "except ZeroDivisionError:\n",
        "    print(\"Error: Division by zero is not allowed.\")\n"
      ],
      "metadata": {
        "colab": {
          "base_uri": "https://localhost:8080/"
        },
        "id": "zHuhgAijzV4u",
        "outputId": "c7c1c808-277f-441c-be64-781cb4fdec08"
      },
      "execution_count": null,
      "outputs": [
        {
          "output_type": "stream",
          "name": "stdout",
          "text": [
            "Error: Division by zero is not allowed.\n"
          ]
        }
      ]
    },
    {
      "cell_type": "markdown",
      "source": [
        "#6. Write a Python program that logs an error message to a log file when a division by zero exception occurs."
      ],
      "metadata": {
        "id": "rHXuWna10bz8"
      }
    },
    {
      "cell_type": "code",
      "source": [
        "import logging\n",
        "logging.basicConfig(filename=\"error_log.txt\",\n",
        "       level=logging.ERROR,\n",
        "      format=\"%(asctime)s - %(levelname)s - %(message)s\")\n",
        "\n",
        "try:\n",
        "    result = 10 / 0\n",
        "except ZeroDivisionError:\n",
        "    logging.error(\"Attempted to divide by zero.\")\n",
        "\n",
        "print(\"An error occurred and has been logged.\")"
      ],
      "metadata": {
        "colab": {
          "base_uri": "https://localhost:8080/"
        },
        "id": "_4zMg_Cm0RkR",
        "outputId": "6a963dd6-98c6-4510-a619-d504a9b5d64d"
      },
      "execution_count": null,
      "outputs": [
        {
          "output_type": "stream",
          "name": "stderr",
          "text": [
            "ERROR:root:Attempted to divide by zero.\n"
          ]
        },
        {
          "output_type": "stream",
          "name": "stdout",
          "text": [
            "An error occurred and has been logged.\n"
          ]
        }
      ]
    },
    {
      "cell_type": "markdown",
      "source": [
        "#7. How do you log information at different levels (INFO, ERROR, WARNING) in Python using the logging module?"
      ],
      "metadata": {
        "id": "vLPVfzNZ1PeR"
      }
    },
    {
      "cell_type": "code",
      "source": [
        "import logging\n",
        "logging.basicConfig(level=logging.DEBUG,\n",
        "                    format=\"%(asctime)s - %(levelname)s - %(message)s\")\n",
        "\n",
        "logging.debug(\"This is a DEBUG message, useful for detailed diagnostic information.\")\n",
        "logging.info(\"This is an INFO message, used to convey general operational information.\")\n",
        "logging.warning(\"This is a WARNING message, indicating potential problems.\")\n",
        "logging.error(\"This is an ERROR message, for reporting errors that occurred.\")\n",
        "logging.critical(\"This is a CRITICAL message, for severe errors that need immediate attention.\")\n"
      ],
      "metadata": {
        "colab": {
          "base_uri": "https://localhost:8080/"
        },
        "id": "vk0H9zck1R69",
        "outputId": "98bdd161-b515-449a-daaf-42773204de7f"
      },
      "execution_count": null,
      "outputs": [
        {
          "output_type": "stream",
          "name": "stderr",
          "text": [
            "WARNING:root:This is a WARNING message, indicating potential problems.\n",
            "ERROR:root:This is an ERROR message, for reporting errors that occurred.\n",
            "CRITICAL:root:This is a CRITICAL message, for severe errors that need immediate attention.\n"
          ]
        }
      ]
    },
    {
      "cell_type": "markdown",
      "source": [
        "#8. Write a program to handle a file opening error using exception handling."
      ],
      "metadata": {
        "id": "tO6PnISG1pOy"
      }
    },
    {
      "cell_type": "code",
      "source": [
        "try:\n",
        "    with open(\"non_existent_file.txt\", \"r\") as file:\n",
        "        contents = file.read()\n",
        "        print(contents)\n",
        "except FileNotFoundError:\n",
        "    print(\"Error: The file does not exist. Please check the file name or path.\")\n",
        "except PermissionError:\n",
        "    print(\"Error: You do not have permission to access this file.\")\n",
        "except Exception as e:\n",
        "    print(f\"An unexpected error occurred: {e}\")"
      ],
      "metadata": {
        "colab": {
          "base_uri": "https://localhost:8080/"
        },
        "id": "p5vz8EmN1bJF",
        "outputId": "571367f6-a7bd-4fb5-b0f5-c1199d6105a7"
      },
      "execution_count": null,
      "outputs": [
        {
          "output_type": "stream",
          "name": "stdout",
          "text": [
            "Error: The file does not exist. Please check the file name or path.\n"
          ]
        }
      ]
    },
    {
      "cell_type": "markdown",
      "source": [
        "#9. How can you read a file line by line and store its content in a list in Python?"
      ],
      "metadata": {
        "id": "Ct8bYQmQ161I"
      }
    },
    {
      "cell_type": "code",
      "source": [
        "with open(\"example.txt\", \"r\") as file:\n",
        "    lines = file.readlines()\n",
        "print(lines)"
      ],
      "metadata": {
        "colab": {
          "base_uri": "https://localhost:8080/"
        },
        "id": "enhW_0Lg13nl",
        "outputId": "199a88ad-efae-40e8-b77f-cb39268abaee"
      },
      "execution_count": null,
      "outputs": [
        {
          "output_type": "stream",
          "name": "stdout",
          "text": [
            "['Hello, world!']\n"
          ]
        }
      ]
    },
    {
      "cell_type": "markdown",
      "source": [
        "#10. How can you append data to an existing file in Python?\n"
      ],
      "metadata": {
        "id": "S-oYfpGg2JL6"
      }
    },
    {
      "cell_type": "code",
      "source": [
        "def append_to_file(file_path, data):\n",
        "    try:\n",
        "        with open(file_path, 'a') as file:\n",
        "            file.write(f\"{data}\\n\")\n",
        "        print(f\"Successfully appended data to the file '{file_path}'.\")\n",
        "    except FileNotFoundError:\n",
        "        print(f\"Error: The file '{file_path}' does not exist.\")\n",
        "    except Exception as e:\n",
        "        print(f\"An unexpected error occurred: {str(e)}\")\n",
        "\n",
        "file_path = 'example.txt'\n",
        "data = \"This is a new line of data.\"\n",
        "append_to_file(file_path, data)\n"
      ],
      "metadata": {
        "id": "_dc0wcgW2GOi",
        "colab": {
          "base_uri": "https://localhost:8080/"
        },
        "outputId": "44a33d11-e017-434d-82cb-7149e5a9290e"
      },
      "execution_count": 11,
      "outputs": [
        {
          "output_type": "stream",
          "name": "stdout",
          "text": [
            "Successfully appended data to the file 'example.txt'.\n"
          ]
        }
      ]
    },
    {
      "cell_type": "markdown",
      "source": [
        "#11. Write a Python program that uses a try-except block to handle an error when attempting to access a dictionary key that doesn't exist."
      ],
      "metadata": {
        "id": "VVUM3X_LCwIe"
      }
    },
    {
      "cell_type": "code",
      "source": [
        "sample_dict = {\"name\": \"John\", \"age\": 30, \"city\": \"New York\"}\n",
        "try:\n",
        "    value = sample_dict[\"occupation\"]\n",
        "    print(f\"Occupation: {value}\")\n",
        "except KeyError:\n",
        "    print(\"The key 'occupation' does not exist in the dictionary.\")"
      ],
      "metadata": {
        "colab": {
          "base_uri": "https://localhost:8080/"
        },
        "id": "ILxUwn6ICZ3f",
        "outputId": "02512a15-3f91-42d2-f6f6-1f37cd0d23aa"
      },
      "execution_count": null,
      "outputs": [
        {
          "output_type": "stream",
          "name": "stdout",
          "text": [
            "The key 'occupation' does not exist in the dictionary.\n"
          ]
        }
      ]
    },
    {
      "cell_type": "markdown",
      "source": [
        "#12. Write a program that demonstrates using multiple except blocks to handle different types of exceptions."
      ],
      "metadata": {
        "id": "yryW8AGcDHY5"
      }
    },
    {
      "cell_type": "code",
      "source": [
        "try:\n",
        "    num = int(input(\"Enter a number: \"))\n",
        "    result = 10 / num\n",
        "    print(f\"Result: {result}\")\n",
        "\n",
        "    my_list = [1, 2, 3]\n",
        "    print(my_list[5])\n",
        "\n",
        "except ZeroDivisionError:\n",
        "    print(\"Error: Division by zero is not allowed.\")\n",
        "\n",
        "except ValueError:\n",
        "    print(\"Error: Please enter a valid integer.\")\n",
        "\n",
        "except IndexError:\n",
        "    print(\"Error: List index is out of range.\")\n",
        "\n",
        "except Exception as e:\n",
        "    print(f\"An unexpected error occurred: {e}\")"
      ],
      "metadata": {
        "colab": {
          "base_uri": "https://localhost:8080/"
        },
        "id": "iC3PmirzDFDC",
        "outputId": "ba3dd861-f0e1-4c8a-d8b7-2164eb1392d6"
      },
      "execution_count": null,
      "outputs": [
        {
          "output_type": "stream",
          "name": "stdout",
          "text": [
            "Enter a number: 25\n",
            "Result: 0.4\n",
            "Error: List index is out of range.\n"
          ]
        }
      ]
    },
    {
      "cell_type": "markdown",
      "source": [
        "#13. How would you check if a file exists before attempting to read it in Python?"
      ],
      "metadata": {
        "id": "v2wLg88-DgaV"
      }
    },
    {
      "cell_type": "code",
      "source": [
        "import os\n",
        "\n",
        "file_path = \"example.txt\"\n",
        "\n",
        "if os.path.exists(file_path):\n",
        "    with open(file_path, \"r\") as file:\n",
        "        content = file.read()\n",
        "        print(content)\n",
        "else:\n",
        "    print(\"The file does not exist.\")\n"
      ],
      "metadata": {
        "colab": {
          "base_uri": "https://localhost:8080/"
        },
        "id": "7sC8-67aDdYb",
        "outputId": "a3f9bfbc-5299-4a16-f20d-1e57af1637fc"
      },
      "execution_count": null,
      "outputs": [
        {
          "output_type": "stream",
          "name": "stdout",
          "text": [
            "\n",
            "This is an additional line appended to the file.\n"
          ]
        }
      ]
    },
    {
      "cell_type": "markdown",
      "source": [
        "#14. Write a program that uses the logging module to log both informational and error messages.\n"
      ],
      "metadata": {
        "id": "kJB6CgsQDvbN"
      }
    },
    {
      "cell_type": "code",
      "source": [
        "import logging\n",
        "logging.basicConfig(\n",
        "    filename=\"app.log\",\n",
        "    level=logging.DEBUG,\n",
        "    format=\"%(asctime)s - %(levelname)s - %(message)s\"\n",
        "    )\n",
        "\n",
        "logging.info(\"Program started.\")\n",
        "logging.debug(\"This is a debug message for detailed diagnostics.\")\n",
        "\n",
        "try:\n",
        "    result = 10 / 0\n",
        "except ZeroDivisionError as e:\n",
        "    logging.error(\"An error occurred: Division by zero.\")\n",
        "    logging.exception(e)\n",
        "\n",
        "logging.warning(\"This is a warning message.\")\n",
        "logging.critical(\"This is a critical message.\")\n",
        "logging.info(\"Program ended.\")"
      ],
      "metadata": {
        "colab": {
          "base_uri": "https://localhost:8080/"
        },
        "id": "Kqdrc5OYDoka",
        "outputId": "12a206ba-cfa6-4a4f-a4ba-dcc565147116"
      },
      "execution_count": null,
      "outputs": [
        {
          "output_type": "stream",
          "name": "stderr",
          "text": [
            "ERROR:root:An error occurred: Division by zero.\n",
            "ERROR:root:division by zero\n",
            "Traceback (most recent call last):\n",
            "  File \"<ipython-input-5-548c40ba348e>\", line 12, in <cell line: 0>\n",
            "    result = 10 / 0\n",
            "             ~~~^~~\n",
            "ZeroDivisionError: division by zero\n",
            "WARNING:root:This is a warning message.\n",
            "CRITICAL:root:This is a critical message.\n"
          ]
        }
      ]
    },
    {
      "cell_type": "markdown",
      "source": [
        "#15. Write a Python program that prints the content of a file and handles the case when the file is empty."
      ],
      "metadata": {
        "id": "vJI_G7axENJo"
      }
    },
    {
      "cell_type": "code",
      "source": [
        "def print_file_content(file_path):\n",
        "    try:\n",
        "        with open(file_path, \"r\") as file:\n",
        "            content = file.read()\n",
        "\n",
        "            if content.strip():\n",
        "                print(\"File Content:\")\n",
        "                print(content)\n",
        "            else:\n",
        "                print(\"The file is empty.\")\n",
        "    except FileNotFoundError:\n",
        "        print(\"Error: The file does not exist.\")\n",
        "    except Exception as e:\n",
        "        print(f\"An unexpected error occurred: {e}\")\n",
        "\n",
        "file_path = \"example.txt\"\n",
        "\n",
        "print_file_content(file_path)"
      ],
      "metadata": {
        "colab": {
          "base_uri": "https://localhost:8080/"
        },
        "id": "nJmPJ5t_EJHG",
        "outputId": "81f80c91-3241-486b-dc45-6c7bb0d0b7c2"
      },
      "execution_count": null,
      "outputs": [
        {
          "output_type": "stream",
          "name": "stdout",
          "text": [
            "File Content:\n",
            "\n",
            "This is an additional line appended to the file.\n"
          ]
        }
      ]
    },
    {
      "cell_type": "markdown",
      "source": [
        "#16. Demonstrate how to use memory profiling to check the memory usage of a small program."
      ],
      "metadata": {
        "id": "oZNZLjSZEre1"
      }
    },
    {
      "cell_type": "code",
      "source": [
        "!pip install memory_profiler\n",
        "\n",
        "from memory_profiler import memory_usage\n",
        "\n",
        "def my_function():\n",
        "    numbers = [i for i in range(1000000)]\n",
        "    return sum(numbers)\n",
        "\n",
        "if __name__ == \"__main__\":\n",
        "    mem_usage = memory_usage((my_function,), max_usage=True)\n",
        "    print(f\"Peak memory usage: {mem_usage} MB\")\n",
        "\n",
        "\n",
        "\n",
        "\n"
      ],
      "metadata": {
        "colab": {
          "base_uri": "https://localhost:8080/"
        },
        "id": "Xg0KqO4IEkmH",
        "outputId": "cc4fd10f-2527-4dd9-d2da-29f5b4368403"
      },
      "execution_count": 10,
      "outputs": [
        {
          "output_type": "stream",
          "name": "stdout",
          "text": [
            "Requirement already satisfied: memory_profiler in /usr/local/lib/python3.11/dist-packages (0.61.0)\n",
            "Requirement already satisfied: psutil in /usr/local/lib/python3.11/dist-packages (from memory_profiler) (5.9.5)\n",
            "Peak memory usage: 138.37890625 MB\n"
          ]
        }
      ]
    },
    {
      "cell_type": "markdown",
      "source": [
        "#17. Write a Python program to create and write a list of numbers to a file, one number per line."
      ],
      "metadata": {
        "id": "syzE9PpLvBq0"
      }
    },
    {
      "cell_type": "code",
      "source": [
        "def write_numbers_to_file(file_path, numbers):\n",
        "    try:\n",
        "        with open(file_path, 'w') as file:\n",
        "            for number in numbers:\n",
        "                file.write(f\"{number}\\n\")\n",
        "        print(f\"Successfully wrote {len(numbers)} numbers to the file '{file_path}'.\")\n",
        "    except Exception as e:\n",
        "        print(f\"An unexpected error occurred: {str(e)}\")\n",
        "\n",
        "file_path = \"numbers.txt\"\n",
        "numbers = [1, 2, 3, 4, 5, 6, 7, 8, 9, 10]\n",
        "write_numbers_to_file(file_path, numbers)\n"
      ],
      "metadata": {
        "id": "PW4orP1hE3mE",
        "colab": {
          "base_uri": "https://localhost:8080/"
        },
        "outputId": "30acbc67-41db-4de1-c5ba-aea4c3827ed7"
      },
      "execution_count": 7,
      "outputs": [
        {
          "output_type": "stream",
          "name": "stdout",
          "text": [
            "Successfully wrote 10 numbers to the file 'numbers.txt'.\n"
          ]
        }
      ]
    },
    {
      "cell_type": "markdown",
      "source": [
        "#18. How would you implement a basic logging setup that logs to a file with rotation after 1MB?"
      ],
      "metadata": {
        "id": "lAdyRQbVvK42"
      }
    },
    {
      "cell_type": "code",
      "source": [
        "import logging\n",
        "from logging.handlers import RotatingFileHandler\n",
        "\n",
        "log_file = \"app.log\"\n",
        "max_file_size = 1 * 1024 * 1024\n",
        "backup_count = 5\n",
        "\n",
        "handler = RotatingFileHandler(log_file, maxBytes=max_file_size, backupCount=backup_count)\n",
        "\n",
        "formatter = logging.Formatter('%(asctime)s - %(levelname)s - %(message)s')\n",
        "handler.setFormatter(formatter)\n",
        "\n",
        "logger = logging.getLogger(\"MyLogger\")\n",
        "logger.setLevel(logging.DEBUG)\n",
        "logger.addHandler(handler)\n",
        "\n",
        "for i in range(1000):\n",
        "    logger.debug(f\"This is log message number {i}\")\n"
      ],
      "metadata": {
        "colab": {
          "base_uri": "https://localhost:8080/"
        },
        "collapsed": true,
        "id": "gRCuUUH8xTJw",
        "outputId": "cf551fb6-886f-4aae-feea-893a1ce7431a"
      },
      "execution_count": 6,
      "outputs": [
        {
          "output_type": "stream",
          "name": "stderr",
          "text": [
            "DEBUG:MyLogger:This is log message number 0\n",
            "DEBUG:MyLogger:This is log message number 1\n",
            "DEBUG:MyLogger:This is log message number 2\n",
            "DEBUG:MyLogger:This is log message number 3\n",
            "DEBUG:MyLogger:This is log message number 4\n",
            "DEBUG:MyLogger:This is log message number 5\n",
            "DEBUG:MyLogger:This is log message number 6\n",
            "DEBUG:MyLogger:This is log message number 7\n",
            "DEBUG:MyLogger:This is log message number 8\n",
            "DEBUG:MyLogger:This is log message number 9\n",
            "DEBUG:MyLogger:This is log message number 10\n",
            "DEBUG:MyLogger:This is log message number 11\n",
            "DEBUG:MyLogger:This is log message number 12\n",
            "DEBUG:MyLogger:This is log message number 13\n",
            "DEBUG:MyLogger:This is log message number 14\n",
            "DEBUG:MyLogger:This is log message number 15\n",
            "DEBUG:MyLogger:This is log message number 16\n",
            "DEBUG:MyLogger:This is log message number 17\n",
            "DEBUG:MyLogger:This is log message number 18\n",
            "DEBUG:MyLogger:This is log message number 19\n",
            "DEBUG:MyLogger:This is log message number 20\n",
            "DEBUG:MyLogger:This is log message number 21\n",
            "DEBUG:MyLogger:This is log message number 22\n",
            "DEBUG:MyLogger:This is log message number 23\n",
            "DEBUG:MyLogger:This is log message number 24\n",
            "DEBUG:MyLogger:This is log message number 25\n",
            "DEBUG:MyLogger:This is log message number 26\n",
            "DEBUG:MyLogger:This is log message number 27\n",
            "DEBUG:MyLogger:This is log message number 28\n",
            "DEBUG:MyLogger:This is log message number 29\n",
            "DEBUG:MyLogger:This is log message number 30\n",
            "DEBUG:MyLogger:This is log message number 31\n",
            "DEBUG:MyLogger:This is log message number 32\n",
            "DEBUG:MyLogger:This is log message number 33\n",
            "DEBUG:MyLogger:This is log message number 34\n",
            "DEBUG:MyLogger:This is log message number 35\n",
            "DEBUG:MyLogger:This is log message number 36\n",
            "DEBUG:MyLogger:This is log message number 37\n",
            "DEBUG:MyLogger:This is log message number 38\n",
            "DEBUG:MyLogger:This is log message number 39\n",
            "DEBUG:MyLogger:This is log message number 40\n",
            "DEBUG:MyLogger:This is log message number 41\n",
            "DEBUG:MyLogger:This is log message number 42\n",
            "DEBUG:MyLogger:This is log message number 43\n",
            "DEBUG:MyLogger:This is log message number 44\n",
            "DEBUG:MyLogger:This is log message number 45\n",
            "DEBUG:MyLogger:This is log message number 46\n",
            "DEBUG:MyLogger:This is log message number 47\n",
            "DEBUG:MyLogger:This is log message number 48\n",
            "DEBUG:MyLogger:This is log message number 49\n",
            "DEBUG:MyLogger:This is log message number 50\n",
            "DEBUG:MyLogger:This is log message number 51\n",
            "DEBUG:MyLogger:This is log message number 52\n",
            "DEBUG:MyLogger:This is log message number 53\n",
            "DEBUG:MyLogger:This is log message number 54\n",
            "DEBUG:MyLogger:This is log message number 55\n",
            "DEBUG:MyLogger:This is log message number 56\n",
            "DEBUG:MyLogger:This is log message number 57\n",
            "DEBUG:MyLogger:This is log message number 58\n",
            "DEBUG:MyLogger:This is log message number 59\n",
            "DEBUG:MyLogger:This is log message number 60\n",
            "DEBUG:MyLogger:This is log message number 61\n",
            "DEBUG:MyLogger:This is log message number 62\n",
            "DEBUG:MyLogger:This is log message number 63\n",
            "DEBUG:MyLogger:This is log message number 64\n",
            "DEBUG:MyLogger:This is log message number 65\n",
            "DEBUG:MyLogger:This is log message number 66\n",
            "DEBUG:MyLogger:This is log message number 67\n",
            "DEBUG:MyLogger:This is log message number 68\n",
            "DEBUG:MyLogger:This is log message number 69\n",
            "DEBUG:MyLogger:This is log message number 70\n",
            "DEBUG:MyLogger:This is log message number 71\n",
            "DEBUG:MyLogger:This is log message number 72\n",
            "DEBUG:MyLogger:This is log message number 73\n",
            "DEBUG:MyLogger:This is log message number 74\n",
            "DEBUG:MyLogger:This is log message number 75\n",
            "DEBUG:MyLogger:This is log message number 76\n",
            "DEBUG:MyLogger:This is log message number 77\n",
            "DEBUG:MyLogger:This is log message number 78\n",
            "DEBUG:MyLogger:This is log message number 79\n",
            "DEBUG:MyLogger:This is log message number 80\n",
            "DEBUG:MyLogger:This is log message number 81\n",
            "DEBUG:MyLogger:This is log message number 82\n",
            "DEBUG:MyLogger:This is log message number 83\n",
            "DEBUG:MyLogger:This is log message number 84\n",
            "DEBUG:MyLogger:This is log message number 85\n",
            "DEBUG:MyLogger:This is log message number 86\n",
            "DEBUG:MyLogger:This is log message number 87\n",
            "DEBUG:MyLogger:This is log message number 88\n",
            "DEBUG:MyLogger:This is log message number 89\n",
            "DEBUG:MyLogger:This is log message number 90\n",
            "DEBUG:MyLogger:This is log message number 91\n",
            "DEBUG:MyLogger:This is log message number 92\n",
            "DEBUG:MyLogger:This is log message number 93\n",
            "DEBUG:MyLogger:This is log message number 94\n",
            "DEBUG:MyLogger:This is log message number 95\n",
            "DEBUG:MyLogger:This is log message number 96\n",
            "DEBUG:MyLogger:This is log message number 97\n",
            "DEBUG:MyLogger:This is log message number 98\n",
            "DEBUG:MyLogger:This is log message number 99\n",
            "DEBUG:MyLogger:This is log message number 100\n",
            "DEBUG:MyLogger:This is log message number 101\n",
            "DEBUG:MyLogger:This is log message number 102\n",
            "DEBUG:MyLogger:This is log message number 103\n",
            "DEBUG:MyLogger:This is log message number 104\n",
            "DEBUG:MyLogger:This is log message number 105\n",
            "DEBUG:MyLogger:This is log message number 106\n",
            "DEBUG:MyLogger:This is log message number 107\n",
            "DEBUG:MyLogger:This is log message number 108\n",
            "DEBUG:MyLogger:This is log message number 109\n",
            "DEBUG:MyLogger:This is log message number 110\n",
            "DEBUG:MyLogger:This is log message number 111\n",
            "DEBUG:MyLogger:This is log message number 112\n",
            "DEBUG:MyLogger:This is log message number 113\n",
            "DEBUG:MyLogger:This is log message number 114\n",
            "DEBUG:MyLogger:This is log message number 115\n",
            "DEBUG:MyLogger:This is log message number 116\n",
            "DEBUG:MyLogger:This is log message number 117\n",
            "DEBUG:MyLogger:This is log message number 118\n",
            "DEBUG:MyLogger:This is log message number 119\n",
            "DEBUG:MyLogger:This is log message number 120\n",
            "DEBUG:MyLogger:This is log message number 121\n",
            "DEBUG:MyLogger:This is log message number 122\n",
            "DEBUG:MyLogger:This is log message number 123\n",
            "DEBUG:MyLogger:This is log message number 124\n",
            "DEBUG:MyLogger:This is log message number 125\n",
            "DEBUG:MyLogger:This is log message number 126\n",
            "DEBUG:MyLogger:This is log message number 127\n",
            "DEBUG:MyLogger:This is log message number 128\n",
            "DEBUG:MyLogger:This is log message number 129\n",
            "DEBUG:MyLogger:This is log message number 130\n",
            "DEBUG:MyLogger:This is log message number 131\n",
            "DEBUG:MyLogger:This is log message number 132\n",
            "DEBUG:MyLogger:This is log message number 133\n",
            "DEBUG:MyLogger:This is log message number 134\n",
            "DEBUG:MyLogger:This is log message number 135\n",
            "DEBUG:MyLogger:This is log message number 136\n",
            "DEBUG:MyLogger:This is log message number 137\n",
            "DEBUG:MyLogger:This is log message number 138\n",
            "DEBUG:MyLogger:This is log message number 139\n",
            "DEBUG:MyLogger:This is log message number 140\n",
            "DEBUG:MyLogger:This is log message number 141\n",
            "DEBUG:MyLogger:This is log message number 142\n",
            "DEBUG:MyLogger:This is log message number 143\n",
            "DEBUG:MyLogger:This is log message number 144\n",
            "DEBUG:MyLogger:This is log message number 145\n",
            "DEBUG:MyLogger:This is log message number 146\n",
            "DEBUG:MyLogger:This is log message number 147\n",
            "DEBUG:MyLogger:This is log message number 148\n",
            "DEBUG:MyLogger:This is log message number 149\n",
            "DEBUG:MyLogger:This is log message number 150\n",
            "DEBUG:MyLogger:This is log message number 151\n",
            "DEBUG:MyLogger:This is log message number 152\n",
            "DEBUG:MyLogger:This is log message number 153\n",
            "DEBUG:MyLogger:This is log message number 154\n",
            "DEBUG:MyLogger:This is log message number 155\n",
            "DEBUG:MyLogger:This is log message number 156\n",
            "DEBUG:MyLogger:This is log message number 157\n",
            "DEBUG:MyLogger:This is log message number 158\n",
            "DEBUG:MyLogger:This is log message number 159\n",
            "DEBUG:MyLogger:This is log message number 160\n",
            "DEBUG:MyLogger:This is log message number 161\n",
            "DEBUG:MyLogger:This is log message number 162\n",
            "DEBUG:MyLogger:This is log message number 163\n",
            "DEBUG:MyLogger:This is log message number 164\n",
            "DEBUG:MyLogger:This is log message number 165\n",
            "DEBUG:MyLogger:This is log message number 166\n",
            "DEBUG:MyLogger:This is log message number 167\n",
            "DEBUG:MyLogger:This is log message number 168\n",
            "DEBUG:MyLogger:This is log message number 169\n",
            "DEBUG:MyLogger:This is log message number 170\n",
            "DEBUG:MyLogger:This is log message number 171\n",
            "DEBUG:MyLogger:This is log message number 172\n",
            "DEBUG:MyLogger:This is log message number 173\n",
            "DEBUG:MyLogger:This is log message number 174\n",
            "DEBUG:MyLogger:This is log message number 175\n",
            "DEBUG:MyLogger:This is log message number 176\n",
            "DEBUG:MyLogger:This is log message number 177\n",
            "DEBUG:MyLogger:This is log message number 178\n",
            "DEBUG:MyLogger:This is log message number 179\n",
            "DEBUG:MyLogger:This is log message number 180\n",
            "DEBUG:MyLogger:This is log message number 181\n",
            "DEBUG:MyLogger:This is log message number 182\n",
            "DEBUG:MyLogger:This is log message number 183\n",
            "DEBUG:MyLogger:This is log message number 184\n",
            "DEBUG:MyLogger:This is log message number 185\n",
            "DEBUG:MyLogger:This is log message number 186\n",
            "DEBUG:MyLogger:This is log message number 187\n",
            "DEBUG:MyLogger:This is log message number 188\n",
            "DEBUG:MyLogger:This is log message number 189\n",
            "DEBUG:MyLogger:This is log message number 190\n",
            "DEBUG:MyLogger:This is log message number 191\n",
            "DEBUG:MyLogger:This is log message number 192\n",
            "DEBUG:MyLogger:This is log message number 193\n",
            "DEBUG:MyLogger:This is log message number 194\n",
            "DEBUG:MyLogger:This is log message number 195\n",
            "DEBUG:MyLogger:This is log message number 196\n",
            "DEBUG:MyLogger:This is log message number 197\n",
            "DEBUG:MyLogger:This is log message number 198\n",
            "DEBUG:MyLogger:This is log message number 199\n",
            "DEBUG:MyLogger:This is log message number 200\n",
            "DEBUG:MyLogger:This is log message number 201\n",
            "DEBUG:MyLogger:This is log message number 202\n",
            "DEBUG:MyLogger:This is log message number 203\n",
            "DEBUG:MyLogger:This is log message number 204\n",
            "DEBUG:MyLogger:This is log message number 205\n",
            "DEBUG:MyLogger:This is log message number 206\n",
            "DEBUG:MyLogger:This is log message number 207\n",
            "DEBUG:MyLogger:This is log message number 208\n",
            "DEBUG:MyLogger:This is log message number 209\n",
            "DEBUG:MyLogger:This is log message number 210\n",
            "DEBUG:MyLogger:This is log message number 211\n",
            "DEBUG:MyLogger:This is log message number 212\n",
            "DEBUG:MyLogger:This is log message number 213\n",
            "DEBUG:MyLogger:This is log message number 214\n",
            "DEBUG:MyLogger:This is log message number 215\n",
            "DEBUG:MyLogger:This is log message number 216\n",
            "DEBUG:MyLogger:This is log message number 217\n",
            "DEBUG:MyLogger:This is log message number 218\n",
            "DEBUG:MyLogger:This is log message number 219\n",
            "DEBUG:MyLogger:This is log message number 220\n",
            "DEBUG:MyLogger:This is log message number 221\n",
            "DEBUG:MyLogger:This is log message number 222\n",
            "DEBUG:MyLogger:This is log message number 223\n",
            "DEBUG:MyLogger:This is log message number 224\n",
            "DEBUG:MyLogger:This is log message number 225\n",
            "DEBUG:MyLogger:This is log message number 226\n",
            "DEBUG:MyLogger:This is log message number 227\n",
            "DEBUG:MyLogger:This is log message number 228\n",
            "DEBUG:MyLogger:This is log message number 229\n",
            "DEBUG:MyLogger:This is log message number 230\n",
            "DEBUG:MyLogger:This is log message number 231\n",
            "DEBUG:MyLogger:This is log message number 232\n",
            "DEBUG:MyLogger:This is log message number 233\n",
            "DEBUG:MyLogger:This is log message number 234\n",
            "DEBUG:MyLogger:This is log message number 235\n",
            "DEBUG:MyLogger:This is log message number 236\n",
            "DEBUG:MyLogger:This is log message number 237\n",
            "DEBUG:MyLogger:This is log message number 238\n",
            "DEBUG:MyLogger:This is log message number 239\n",
            "DEBUG:MyLogger:This is log message number 240\n",
            "DEBUG:MyLogger:This is log message number 241\n",
            "DEBUG:MyLogger:This is log message number 242\n",
            "DEBUG:MyLogger:This is log message number 243\n",
            "DEBUG:MyLogger:This is log message number 244\n",
            "DEBUG:MyLogger:This is log message number 245\n",
            "DEBUG:MyLogger:This is log message number 246\n",
            "DEBUG:MyLogger:This is log message number 247\n",
            "DEBUG:MyLogger:This is log message number 248\n",
            "DEBUG:MyLogger:This is log message number 249\n",
            "DEBUG:MyLogger:This is log message number 250\n",
            "DEBUG:MyLogger:This is log message number 251\n",
            "DEBUG:MyLogger:This is log message number 252\n",
            "DEBUG:MyLogger:This is log message number 253\n",
            "DEBUG:MyLogger:This is log message number 254\n",
            "DEBUG:MyLogger:This is log message number 255\n",
            "DEBUG:MyLogger:This is log message number 256\n",
            "DEBUG:MyLogger:This is log message number 257\n",
            "DEBUG:MyLogger:This is log message number 258\n",
            "DEBUG:MyLogger:This is log message number 259\n",
            "DEBUG:MyLogger:This is log message number 260\n",
            "DEBUG:MyLogger:This is log message number 261\n",
            "DEBUG:MyLogger:This is log message number 262\n",
            "DEBUG:MyLogger:This is log message number 263\n",
            "DEBUG:MyLogger:This is log message number 264\n",
            "DEBUG:MyLogger:This is log message number 265\n",
            "DEBUG:MyLogger:This is log message number 266\n",
            "DEBUG:MyLogger:This is log message number 267\n",
            "DEBUG:MyLogger:This is log message number 268\n",
            "DEBUG:MyLogger:This is log message number 269\n",
            "DEBUG:MyLogger:This is log message number 270\n",
            "DEBUG:MyLogger:This is log message number 271\n",
            "DEBUG:MyLogger:This is log message number 272\n",
            "DEBUG:MyLogger:This is log message number 273\n",
            "DEBUG:MyLogger:This is log message number 274\n",
            "DEBUG:MyLogger:This is log message number 275\n",
            "DEBUG:MyLogger:This is log message number 276\n",
            "DEBUG:MyLogger:This is log message number 277\n",
            "DEBUG:MyLogger:This is log message number 278\n",
            "DEBUG:MyLogger:This is log message number 279\n",
            "DEBUG:MyLogger:This is log message number 280\n",
            "DEBUG:MyLogger:This is log message number 281\n",
            "DEBUG:MyLogger:This is log message number 282\n",
            "DEBUG:MyLogger:This is log message number 283\n",
            "DEBUG:MyLogger:This is log message number 284\n",
            "DEBUG:MyLogger:This is log message number 285\n",
            "DEBUG:MyLogger:This is log message number 286\n",
            "DEBUG:MyLogger:This is log message number 287\n",
            "DEBUG:MyLogger:This is log message number 288\n",
            "DEBUG:MyLogger:This is log message number 289\n",
            "DEBUG:MyLogger:This is log message number 290\n",
            "DEBUG:MyLogger:This is log message number 291\n",
            "DEBUG:MyLogger:This is log message number 292\n",
            "DEBUG:MyLogger:This is log message number 293\n",
            "DEBUG:MyLogger:This is log message number 294\n",
            "DEBUG:MyLogger:This is log message number 295\n",
            "DEBUG:MyLogger:This is log message number 296\n",
            "DEBUG:MyLogger:This is log message number 297\n",
            "DEBUG:MyLogger:This is log message number 298\n",
            "DEBUG:MyLogger:This is log message number 299\n",
            "DEBUG:MyLogger:This is log message number 300\n",
            "DEBUG:MyLogger:This is log message number 301\n",
            "DEBUG:MyLogger:This is log message number 302\n",
            "DEBUG:MyLogger:This is log message number 303\n",
            "DEBUG:MyLogger:This is log message number 304\n",
            "DEBUG:MyLogger:This is log message number 305\n",
            "DEBUG:MyLogger:This is log message number 306\n",
            "DEBUG:MyLogger:This is log message number 307\n",
            "DEBUG:MyLogger:This is log message number 308\n",
            "DEBUG:MyLogger:This is log message number 309\n",
            "DEBUG:MyLogger:This is log message number 310\n",
            "DEBUG:MyLogger:This is log message number 311\n",
            "DEBUG:MyLogger:This is log message number 312\n",
            "DEBUG:MyLogger:This is log message number 313\n",
            "DEBUG:MyLogger:This is log message number 314\n",
            "DEBUG:MyLogger:This is log message number 315\n",
            "DEBUG:MyLogger:This is log message number 316\n",
            "DEBUG:MyLogger:This is log message number 317\n",
            "DEBUG:MyLogger:This is log message number 318\n",
            "DEBUG:MyLogger:This is log message number 319\n",
            "DEBUG:MyLogger:This is log message number 320\n",
            "DEBUG:MyLogger:This is log message number 321\n",
            "DEBUG:MyLogger:This is log message number 322\n",
            "DEBUG:MyLogger:This is log message number 323\n",
            "DEBUG:MyLogger:This is log message number 324\n",
            "DEBUG:MyLogger:This is log message number 325\n",
            "DEBUG:MyLogger:This is log message number 326\n",
            "DEBUG:MyLogger:This is log message number 327\n",
            "DEBUG:MyLogger:This is log message number 328\n",
            "DEBUG:MyLogger:This is log message number 329\n",
            "DEBUG:MyLogger:This is log message number 330\n",
            "DEBUG:MyLogger:This is log message number 331\n",
            "DEBUG:MyLogger:This is log message number 332\n",
            "DEBUG:MyLogger:This is log message number 333\n",
            "DEBUG:MyLogger:This is log message number 334\n",
            "DEBUG:MyLogger:This is log message number 335\n",
            "DEBUG:MyLogger:This is log message number 336\n",
            "DEBUG:MyLogger:This is log message number 337\n",
            "DEBUG:MyLogger:This is log message number 338\n",
            "DEBUG:MyLogger:This is log message number 339\n",
            "DEBUG:MyLogger:This is log message number 340\n",
            "DEBUG:MyLogger:This is log message number 341\n",
            "DEBUG:MyLogger:This is log message number 342\n",
            "DEBUG:MyLogger:This is log message number 343\n",
            "DEBUG:MyLogger:This is log message number 344\n",
            "DEBUG:MyLogger:This is log message number 345\n",
            "DEBUG:MyLogger:This is log message number 346\n",
            "DEBUG:MyLogger:This is log message number 347\n",
            "DEBUG:MyLogger:This is log message number 348\n",
            "DEBUG:MyLogger:This is log message number 349\n",
            "DEBUG:MyLogger:This is log message number 350\n",
            "DEBUG:MyLogger:This is log message number 351\n",
            "DEBUG:MyLogger:This is log message number 352\n",
            "DEBUG:MyLogger:This is log message number 353\n",
            "DEBUG:MyLogger:This is log message number 354\n",
            "DEBUG:MyLogger:This is log message number 355\n",
            "DEBUG:MyLogger:This is log message number 356\n",
            "DEBUG:MyLogger:This is log message number 357\n",
            "DEBUG:MyLogger:This is log message number 358\n",
            "DEBUG:MyLogger:This is log message number 359\n",
            "DEBUG:MyLogger:This is log message number 360\n",
            "DEBUG:MyLogger:This is log message number 361\n",
            "DEBUG:MyLogger:This is log message number 362\n",
            "DEBUG:MyLogger:This is log message number 363\n",
            "DEBUG:MyLogger:This is log message number 364\n",
            "DEBUG:MyLogger:This is log message number 365\n",
            "DEBUG:MyLogger:This is log message number 366\n",
            "DEBUG:MyLogger:This is log message number 367\n",
            "DEBUG:MyLogger:This is log message number 368\n",
            "DEBUG:MyLogger:This is log message number 369\n",
            "DEBUG:MyLogger:This is log message number 370\n",
            "DEBUG:MyLogger:This is log message number 371\n",
            "DEBUG:MyLogger:This is log message number 372\n",
            "DEBUG:MyLogger:This is log message number 373\n",
            "DEBUG:MyLogger:This is log message number 374\n",
            "DEBUG:MyLogger:This is log message number 375\n",
            "DEBUG:MyLogger:This is log message number 376\n",
            "DEBUG:MyLogger:This is log message number 377\n",
            "DEBUG:MyLogger:This is log message number 378\n",
            "DEBUG:MyLogger:This is log message number 379\n",
            "DEBUG:MyLogger:This is log message number 380\n",
            "DEBUG:MyLogger:This is log message number 381\n",
            "DEBUG:MyLogger:This is log message number 382\n",
            "DEBUG:MyLogger:This is log message number 383\n",
            "DEBUG:MyLogger:This is log message number 384\n",
            "DEBUG:MyLogger:This is log message number 385\n",
            "DEBUG:MyLogger:This is log message number 386\n",
            "DEBUG:MyLogger:This is log message number 387\n",
            "DEBUG:MyLogger:This is log message number 388\n",
            "DEBUG:MyLogger:This is log message number 389\n",
            "DEBUG:MyLogger:This is log message number 390\n",
            "DEBUG:MyLogger:This is log message number 391\n",
            "DEBUG:MyLogger:This is log message number 392\n",
            "DEBUG:MyLogger:This is log message number 393\n",
            "DEBUG:MyLogger:This is log message number 394\n",
            "DEBUG:MyLogger:This is log message number 395\n",
            "DEBUG:MyLogger:This is log message number 396\n",
            "DEBUG:MyLogger:This is log message number 397\n",
            "DEBUG:MyLogger:This is log message number 398\n",
            "DEBUG:MyLogger:This is log message number 399\n",
            "DEBUG:MyLogger:This is log message number 400\n",
            "DEBUG:MyLogger:This is log message number 401\n",
            "DEBUG:MyLogger:This is log message number 402\n",
            "DEBUG:MyLogger:This is log message number 403\n",
            "DEBUG:MyLogger:This is log message number 404\n",
            "DEBUG:MyLogger:This is log message number 405\n",
            "DEBUG:MyLogger:This is log message number 406\n",
            "DEBUG:MyLogger:This is log message number 407\n",
            "DEBUG:MyLogger:This is log message number 408\n",
            "DEBUG:MyLogger:This is log message number 409\n",
            "DEBUG:MyLogger:This is log message number 410\n",
            "DEBUG:MyLogger:This is log message number 411\n",
            "DEBUG:MyLogger:This is log message number 412\n",
            "DEBUG:MyLogger:This is log message number 413\n",
            "DEBUG:MyLogger:This is log message number 414\n",
            "DEBUG:MyLogger:This is log message number 415\n",
            "DEBUG:MyLogger:This is log message number 416\n",
            "DEBUG:MyLogger:This is log message number 417\n",
            "DEBUG:MyLogger:This is log message number 418\n",
            "DEBUG:MyLogger:This is log message number 419\n",
            "DEBUG:MyLogger:This is log message number 420\n",
            "DEBUG:MyLogger:This is log message number 421\n",
            "DEBUG:MyLogger:This is log message number 422\n",
            "DEBUG:MyLogger:This is log message number 423\n",
            "DEBUG:MyLogger:This is log message number 424\n",
            "DEBUG:MyLogger:This is log message number 425\n",
            "DEBUG:MyLogger:This is log message number 426\n",
            "DEBUG:MyLogger:This is log message number 427\n",
            "DEBUG:MyLogger:This is log message number 428\n",
            "DEBUG:MyLogger:This is log message number 429\n",
            "DEBUG:MyLogger:This is log message number 430\n",
            "DEBUG:MyLogger:This is log message number 431\n",
            "DEBUG:MyLogger:This is log message number 432\n",
            "DEBUG:MyLogger:This is log message number 433\n",
            "DEBUG:MyLogger:This is log message number 434\n",
            "DEBUG:MyLogger:This is log message number 435\n",
            "DEBUG:MyLogger:This is log message number 436\n",
            "DEBUG:MyLogger:This is log message number 437\n",
            "DEBUG:MyLogger:This is log message number 438\n",
            "DEBUG:MyLogger:This is log message number 439\n",
            "DEBUG:MyLogger:This is log message number 440\n",
            "DEBUG:MyLogger:This is log message number 441\n",
            "DEBUG:MyLogger:This is log message number 442\n",
            "DEBUG:MyLogger:This is log message number 443\n",
            "DEBUG:MyLogger:This is log message number 444\n",
            "DEBUG:MyLogger:This is log message number 445\n",
            "DEBUG:MyLogger:This is log message number 446\n",
            "DEBUG:MyLogger:This is log message number 447\n",
            "DEBUG:MyLogger:This is log message number 448\n",
            "DEBUG:MyLogger:This is log message number 449\n",
            "DEBUG:MyLogger:This is log message number 450\n",
            "DEBUG:MyLogger:This is log message number 451\n",
            "DEBUG:MyLogger:This is log message number 452\n",
            "DEBUG:MyLogger:This is log message number 453\n",
            "DEBUG:MyLogger:This is log message number 454\n",
            "DEBUG:MyLogger:This is log message number 455\n",
            "DEBUG:MyLogger:This is log message number 456\n",
            "DEBUG:MyLogger:This is log message number 457\n",
            "DEBUG:MyLogger:This is log message number 458\n",
            "DEBUG:MyLogger:This is log message number 459\n",
            "DEBUG:MyLogger:This is log message number 460\n",
            "DEBUG:MyLogger:This is log message number 461\n",
            "DEBUG:MyLogger:This is log message number 462\n",
            "DEBUG:MyLogger:This is log message number 463\n",
            "DEBUG:MyLogger:This is log message number 464\n",
            "DEBUG:MyLogger:This is log message number 465\n",
            "DEBUG:MyLogger:This is log message number 466\n",
            "DEBUG:MyLogger:This is log message number 467\n",
            "DEBUG:MyLogger:This is log message number 468\n",
            "DEBUG:MyLogger:This is log message number 469\n",
            "DEBUG:MyLogger:This is log message number 470\n",
            "DEBUG:MyLogger:This is log message number 471\n",
            "DEBUG:MyLogger:This is log message number 472\n",
            "DEBUG:MyLogger:This is log message number 473\n",
            "DEBUG:MyLogger:This is log message number 474\n",
            "DEBUG:MyLogger:This is log message number 475\n",
            "DEBUG:MyLogger:This is log message number 476\n",
            "DEBUG:MyLogger:This is log message number 477\n",
            "DEBUG:MyLogger:This is log message number 478\n",
            "DEBUG:MyLogger:This is log message number 479\n",
            "DEBUG:MyLogger:This is log message number 480\n",
            "DEBUG:MyLogger:This is log message number 481\n",
            "DEBUG:MyLogger:This is log message number 482\n",
            "DEBUG:MyLogger:This is log message number 483\n",
            "DEBUG:MyLogger:This is log message number 484\n",
            "DEBUG:MyLogger:This is log message number 485\n",
            "DEBUG:MyLogger:This is log message number 486\n",
            "DEBUG:MyLogger:This is log message number 487\n",
            "DEBUG:MyLogger:This is log message number 488\n",
            "DEBUG:MyLogger:This is log message number 489\n",
            "DEBUG:MyLogger:This is log message number 490\n",
            "DEBUG:MyLogger:This is log message number 491\n",
            "DEBUG:MyLogger:This is log message number 492\n",
            "DEBUG:MyLogger:This is log message number 493\n",
            "DEBUG:MyLogger:This is log message number 494\n",
            "DEBUG:MyLogger:This is log message number 495\n",
            "DEBUG:MyLogger:This is log message number 496\n",
            "DEBUG:MyLogger:This is log message number 497\n",
            "DEBUG:MyLogger:This is log message number 498\n",
            "DEBUG:MyLogger:This is log message number 499\n",
            "DEBUG:MyLogger:This is log message number 500\n",
            "DEBUG:MyLogger:This is log message number 501\n",
            "DEBUG:MyLogger:This is log message number 502\n",
            "DEBUG:MyLogger:This is log message number 503\n",
            "DEBUG:MyLogger:This is log message number 504\n",
            "DEBUG:MyLogger:This is log message number 505\n",
            "DEBUG:MyLogger:This is log message number 506\n",
            "DEBUG:MyLogger:This is log message number 507\n",
            "DEBUG:MyLogger:This is log message number 508\n",
            "DEBUG:MyLogger:This is log message number 509\n",
            "DEBUG:MyLogger:This is log message number 510\n",
            "DEBUG:MyLogger:This is log message number 511\n",
            "DEBUG:MyLogger:This is log message number 512\n",
            "DEBUG:MyLogger:This is log message number 513\n",
            "DEBUG:MyLogger:This is log message number 514\n",
            "DEBUG:MyLogger:This is log message number 515\n",
            "DEBUG:MyLogger:This is log message number 516\n",
            "DEBUG:MyLogger:This is log message number 517\n",
            "DEBUG:MyLogger:This is log message number 518\n",
            "DEBUG:MyLogger:This is log message number 519\n",
            "DEBUG:MyLogger:This is log message number 520\n",
            "DEBUG:MyLogger:This is log message number 521\n",
            "DEBUG:MyLogger:This is log message number 522\n",
            "DEBUG:MyLogger:This is log message number 523\n",
            "DEBUG:MyLogger:This is log message number 524\n",
            "DEBUG:MyLogger:This is log message number 525\n",
            "DEBUG:MyLogger:This is log message number 526\n",
            "DEBUG:MyLogger:This is log message number 527\n",
            "DEBUG:MyLogger:This is log message number 528\n",
            "DEBUG:MyLogger:This is log message number 529\n",
            "DEBUG:MyLogger:This is log message number 530\n",
            "DEBUG:MyLogger:This is log message number 531\n",
            "DEBUG:MyLogger:This is log message number 532\n",
            "DEBUG:MyLogger:This is log message number 533\n",
            "DEBUG:MyLogger:This is log message number 534\n",
            "DEBUG:MyLogger:This is log message number 535\n",
            "DEBUG:MyLogger:This is log message number 536\n",
            "DEBUG:MyLogger:This is log message number 537\n",
            "DEBUG:MyLogger:This is log message number 538\n",
            "DEBUG:MyLogger:This is log message number 539\n",
            "DEBUG:MyLogger:This is log message number 540\n",
            "DEBUG:MyLogger:This is log message number 541\n",
            "DEBUG:MyLogger:This is log message number 542\n",
            "DEBUG:MyLogger:This is log message number 543\n",
            "DEBUG:MyLogger:This is log message number 544\n",
            "DEBUG:MyLogger:This is log message number 545\n",
            "DEBUG:MyLogger:This is log message number 546\n",
            "DEBUG:MyLogger:This is log message number 547\n",
            "DEBUG:MyLogger:This is log message number 548\n",
            "DEBUG:MyLogger:This is log message number 549\n",
            "DEBUG:MyLogger:This is log message number 550\n",
            "DEBUG:MyLogger:This is log message number 551\n",
            "DEBUG:MyLogger:This is log message number 552\n",
            "DEBUG:MyLogger:This is log message number 553\n",
            "DEBUG:MyLogger:This is log message number 554\n",
            "DEBUG:MyLogger:This is log message number 555\n",
            "DEBUG:MyLogger:This is log message number 556\n",
            "DEBUG:MyLogger:This is log message number 557\n",
            "DEBUG:MyLogger:This is log message number 558\n",
            "DEBUG:MyLogger:This is log message number 559\n",
            "DEBUG:MyLogger:This is log message number 560\n",
            "DEBUG:MyLogger:This is log message number 561\n",
            "DEBUG:MyLogger:This is log message number 562\n",
            "DEBUG:MyLogger:This is log message number 563\n",
            "DEBUG:MyLogger:This is log message number 564\n",
            "DEBUG:MyLogger:This is log message number 565\n",
            "DEBUG:MyLogger:This is log message number 566\n",
            "DEBUG:MyLogger:This is log message number 567\n",
            "DEBUG:MyLogger:This is log message number 568\n",
            "DEBUG:MyLogger:This is log message number 569\n",
            "DEBUG:MyLogger:This is log message number 570\n",
            "DEBUG:MyLogger:This is log message number 571\n",
            "DEBUG:MyLogger:This is log message number 572\n",
            "DEBUG:MyLogger:This is log message number 573\n",
            "DEBUG:MyLogger:This is log message number 574\n",
            "DEBUG:MyLogger:This is log message number 575\n",
            "DEBUG:MyLogger:This is log message number 576\n",
            "DEBUG:MyLogger:This is log message number 577\n",
            "DEBUG:MyLogger:This is log message number 578\n",
            "DEBUG:MyLogger:This is log message number 579\n",
            "DEBUG:MyLogger:This is log message number 580\n",
            "DEBUG:MyLogger:This is log message number 581\n",
            "DEBUG:MyLogger:This is log message number 582\n",
            "DEBUG:MyLogger:This is log message number 583\n",
            "DEBUG:MyLogger:This is log message number 584\n",
            "DEBUG:MyLogger:This is log message number 585\n",
            "DEBUG:MyLogger:This is log message number 586\n",
            "DEBUG:MyLogger:This is log message number 587\n",
            "DEBUG:MyLogger:This is log message number 588\n",
            "DEBUG:MyLogger:This is log message number 589\n",
            "DEBUG:MyLogger:This is log message number 590\n",
            "DEBUG:MyLogger:This is log message number 591\n",
            "DEBUG:MyLogger:This is log message number 592\n",
            "DEBUG:MyLogger:This is log message number 593\n",
            "DEBUG:MyLogger:This is log message number 594\n",
            "DEBUG:MyLogger:This is log message number 595\n",
            "DEBUG:MyLogger:This is log message number 596\n",
            "DEBUG:MyLogger:This is log message number 597\n",
            "DEBUG:MyLogger:This is log message number 598\n",
            "DEBUG:MyLogger:This is log message number 599\n",
            "DEBUG:MyLogger:This is log message number 600\n",
            "DEBUG:MyLogger:This is log message number 601\n",
            "DEBUG:MyLogger:This is log message number 602\n",
            "DEBUG:MyLogger:This is log message number 603\n",
            "DEBUG:MyLogger:This is log message number 604\n",
            "DEBUG:MyLogger:This is log message number 605\n",
            "DEBUG:MyLogger:This is log message number 606\n",
            "DEBUG:MyLogger:This is log message number 607\n",
            "DEBUG:MyLogger:This is log message number 608\n",
            "DEBUG:MyLogger:This is log message number 609\n",
            "DEBUG:MyLogger:This is log message number 610\n",
            "DEBUG:MyLogger:This is log message number 611\n",
            "DEBUG:MyLogger:This is log message number 612\n",
            "DEBUG:MyLogger:This is log message number 613\n",
            "DEBUG:MyLogger:This is log message number 614\n",
            "DEBUG:MyLogger:This is log message number 615\n",
            "DEBUG:MyLogger:This is log message number 616\n",
            "DEBUG:MyLogger:This is log message number 617\n",
            "DEBUG:MyLogger:This is log message number 618\n",
            "DEBUG:MyLogger:This is log message number 619\n",
            "DEBUG:MyLogger:This is log message number 620\n",
            "DEBUG:MyLogger:This is log message number 621\n",
            "DEBUG:MyLogger:This is log message number 622\n",
            "DEBUG:MyLogger:This is log message number 623\n",
            "DEBUG:MyLogger:This is log message number 624\n",
            "DEBUG:MyLogger:This is log message number 625\n",
            "DEBUG:MyLogger:This is log message number 626\n",
            "DEBUG:MyLogger:This is log message number 627\n",
            "DEBUG:MyLogger:This is log message number 628\n",
            "DEBUG:MyLogger:This is log message number 629\n",
            "DEBUG:MyLogger:This is log message number 630\n",
            "DEBUG:MyLogger:This is log message number 631\n",
            "DEBUG:MyLogger:This is log message number 632\n",
            "DEBUG:MyLogger:This is log message number 633\n",
            "DEBUG:MyLogger:This is log message number 634\n",
            "DEBUG:MyLogger:This is log message number 635\n",
            "DEBUG:MyLogger:This is log message number 636\n",
            "DEBUG:MyLogger:This is log message number 637\n",
            "DEBUG:MyLogger:This is log message number 638\n",
            "DEBUG:MyLogger:This is log message number 639\n",
            "DEBUG:MyLogger:This is log message number 640\n",
            "DEBUG:MyLogger:This is log message number 641\n",
            "DEBUG:MyLogger:This is log message number 642\n",
            "DEBUG:MyLogger:This is log message number 643\n",
            "DEBUG:MyLogger:This is log message number 644\n",
            "DEBUG:MyLogger:This is log message number 645\n",
            "DEBUG:MyLogger:This is log message number 646\n",
            "DEBUG:MyLogger:This is log message number 647\n",
            "DEBUG:MyLogger:This is log message number 648\n",
            "DEBUG:MyLogger:This is log message number 649\n",
            "DEBUG:MyLogger:This is log message number 650\n",
            "DEBUG:MyLogger:This is log message number 651\n",
            "DEBUG:MyLogger:This is log message number 652\n",
            "DEBUG:MyLogger:This is log message number 653\n",
            "DEBUG:MyLogger:This is log message number 654\n",
            "DEBUG:MyLogger:This is log message number 655\n",
            "DEBUG:MyLogger:This is log message number 656\n",
            "DEBUG:MyLogger:This is log message number 657\n",
            "DEBUG:MyLogger:This is log message number 658\n",
            "DEBUG:MyLogger:This is log message number 659\n",
            "DEBUG:MyLogger:This is log message number 660\n",
            "DEBUG:MyLogger:This is log message number 661\n",
            "DEBUG:MyLogger:This is log message number 662\n",
            "DEBUG:MyLogger:This is log message number 663\n",
            "DEBUG:MyLogger:This is log message number 664\n",
            "DEBUG:MyLogger:This is log message number 665\n",
            "DEBUG:MyLogger:This is log message number 666\n",
            "DEBUG:MyLogger:This is log message number 667\n",
            "DEBUG:MyLogger:This is log message number 668\n",
            "DEBUG:MyLogger:This is log message number 669\n",
            "DEBUG:MyLogger:This is log message number 670\n",
            "DEBUG:MyLogger:This is log message number 671\n",
            "DEBUG:MyLogger:This is log message number 672\n",
            "DEBUG:MyLogger:This is log message number 673\n",
            "DEBUG:MyLogger:This is log message number 674\n",
            "DEBUG:MyLogger:This is log message number 675\n",
            "DEBUG:MyLogger:This is log message number 676\n",
            "DEBUG:MyLogger:This is log message number 677\n",
            "DEBUG:MyLogger:This is log message number 678\n",
            "DEBUG:MyLogger:This is log message number 679\n",
            "DEBUG:MyLogger:This is log message number 680\n",
            "DEBUG:MyLogger:This is log message number 681\n",
            "DEBUG:MyLogger:This is log message number 682\n",
            "DEBUG:MyLogger:This is log message number 683\n",
            "DEBUG:MyLogger:This is log message number 684\n",
            "DEBUG:MyLogger:This is log message number 685\n",
            "DEBUG:MyLogger:This is log message number 686\n",
            "DEBUG:MyLogger:This is log message number 687\n",
            "DEBUG:MyLogger:This is log message number 688\n",
            "DEBUG:MyLogger:This is log message number 689\n",
            "DEBUG:MyLogger:This is log message number 690\n",
            "DEBUG:MyLogger:This is log message number 691\n",
            "DEBUG:MyLogger:This is log message number 692\n",
            "DEBUG:MyLogger:This is log message number 693\n",
            "DEBUG:MyLogger:This is log message number 694\n",
            "DEBUG:MyLogger:This is log message number 695\n",
            "DEBUG:MyLogger:This is log message number 696\n",
            "DEBUG:MyLogger:This is log message number 697\n",
            "DEBUG:MyLogger:This is log message number 698\n",
            "DEBUG:MyLogger:This is log message number 699\n",
            "DEBUG:MyLogger:This is log message number 700\n",
            "DEBUG:MyLogger:This is log message number 701\n",
            "DEBUG:MyLogger:This is log message number 702\n",
            "DEBUG:MyLogger:This is log message number 703\n",
            "DEBUG:MyLogger:This is log message number 704\n",
            "DEBUG:MyLogger:This is log message number 705\n",
            "DEBUG:MyLogger:This is log message number 706\n",
            "DEBUG:MyLogger:This is log message number 707\n",
            "DEBUG:MyLogger:This is log message number 708\n",
            "DEBUG:MyLogger:This is log message number 709\n",
            "DEBUG:MyLogger:This is log message number 710\n",
            "DEBUG:MyLogger:This is log message number 711\n",
            "DEBUG:MyLogger:This is log message number 712\n",
            "DEBUG:MyLogger:This is log message number 713\n",
            "DEBUG:MyLogger:This is log message number 714\n",
            "DEBUG:MyLogger:This is log message number 715\n",
            "DEBUG:MyLogger:This is log message number 716\n",
            "DEBUG:MyLogger:This is log message number 717\n",
            "DEBUG:MyLogger:This is log message number 718\n",
            "DEBUG:MyLogger:This is log message number 719\n",
            "DEBUG:MyLogger:This is log message number 720\n",
            "DEBUG:MyLogger:This is log message number 721\n",
            "DEBUG:MyLogger:This is log message number 722\n",
            "DEBUG:MyLogger:This is log message number 723\n",
            "DEBUG:MyLogger:This is log message number 724\n",
            "DEBUG:MyLogger:This is log message number 725\n",
            "DEBUG:MyLogger:This is log message number 726\n",
            "DEBUG:MyLogger:This is log message number 727\n",
            "DEBUG:MyLogger:This is log message number 728\n",
            "DEBUG:MyLogger:This is log message number 729\n",
            "DEBUG:MyLogger:This is log message number 730\n",
            "DEBUG:MyLogger:This is log message number 731\n",
            "DEBUG:MyLogger:This is log message number 732\n",
            "DEBUG:MyLogger:This is log message number 733\n",
            "DEBUG:MyLogger:This is log message number 734\n",
            "DEBUG:MyLogger:This is log message number 735\n",
            "DEBUG:MyLogger:This is log message number 736\n",
            "DEBUG:MyLogger:This is log message number 737\n",
            "DEBUG:MyLogger:This is log message number 738\n",
            "DEBUG:MyLogger:This is log message number 739\n",
            "DEBUG:MyLogger:This is log message number 740\n",
            "DEBUG:MyLogger:This is log message number 741\n",
            "DEBUG:MyLogger:This is log message number 742\n",
            "DEBUG:MyLogger:This is log message number 743\n",
            "DEBUG:MyLogger:This is log message number 744\n",
            "DEBUG:MyLogger:This is log message number 745\n",
            "DEBUG:MyLogger:This is log message number 746\n",
            "DEBUG:MyLogger:This is log message number 747\n",
            "DEBUG:MyLogger:This is log message number 748\n",
            "DEBUG:MyLogger:This is log message number 749\n",
            "DEBUG:MyLogger:This is log message number 750\n",
            "DEBUG:MyLogger:This is log message number 751\n",
            "DEBUG:MyLogger:This is log message number 752\n",
            "DEBUG:MyLogger:This is log message number 753\n",
            "DEBUG:MyLogger:This is log message number 754\n",
            "DEBUG:MyLogger:This is log message number 755\n",
            "DEBUG:MyLogger:This is log message number 756\n",
            "DEBUG:MyLogger:This is log message number 757\n",
            "DEBUG:MyLogger:This is log message number 758\n",
            "DEBUG:MyLogger:This is log message number 759\n",
            "DEBUG:MyLogger:This is log message number 760\n",
            "DEBUG:MyLogger:This is log message number 761\n",
            "DEBUG:MyLogger:This is log message number 762\n",
            "DEBUG:MyLogger:This is log message number 763\n",
            "DEBUG:MyLogger:This is log message number 764\n",
            "DEBUG:MyLogger:This is log message number 765\n",
            "DEBUG:MyLogger:This is log message number 766\n",
            "DEBUG:MyLogger:This is log message number 767\n",
            "DEBUG:MyLogger:This is log message number 768\n",
            "DEBUG:MyLogger:This is log message number 769\n",
            "DEBUG:MyLogger:This is log message number 770\n",
            "DEBUG:MyLogger:This is log message number 771\n",
            "DEBUG:MyLogger:This is log message number 772\n",
            "DEBUG:MyLogger:This is log message number 773\n",
            "DEBUG:MyLogger:This is log message number 774\n",
            "DEBUG:MyLogger:This is log message number 775\n",
            "DEBUG:MyLogger:This is log message number 776\n",
            "DEBUG:MyLogger:This is log message number 777\n",
            "DEBUG:MyLogger:This is log message number 778\n",
            "DEBUG:MyLogger:This is log message number 779\n",
            "DEBUG:MyLogger:This is log message number 780\n",
            "DEBUG:MyLogger:This is log message number 781\n",
            "DEBUG:MyLogger:This is log message number 782\n",
            "DEBUG:MyLogger:This is log message number 783\n",
            "DEBUG:MyLogger:This is log message number 784\n",
            "DEBUG:MyLogger:This is log message number 785\n",
            "DEBUG:MyLogger:This is log message number 786\n",
            "DEBUG:MyLogger:This is log message number 787\n",
            "DEBUG:MyLogger:This is log message number 788\n",
            "DEBUG:MyLogger:This is log message number 789\n",
            "DEBUG:MyLogger:This is log message number 790\n",
            "DEBUG:MyLogger:This is log message number 791\n",
            "DEBUG:MyLogger:This is log message number 792\n",
            "DEBUG:MyLogger:This is log message number 793\n",
            "DEBUG:MyLogger:This is log message number 794\n",
            "DEBUG:MyLogger:This is log message number 795\n",
            "DEBUG:MyLogger:This is log message number 796\n",
            "DEBUG:MyLogger:This is log message number 797\n",
            "DEBUG:MyLogger:This is log message number 798\n",
            "DEBUG:MyLogger:This is log message number 799\n",
            "DEBUG:MyLogger:This is log message number 800\n",
            "DEBUG:MyLogger:This is log message number 801\n",
            "DEBUG:MyLogger:This is log message number 802\n",
            "DEBUG:MyLogger:This is log message number 803\n",
            "DEBUG:MyLogger:This is log message number 804\n",
            "DEBUG:MyLogger:This is log message number 805\n",
            "DEBUG:MyLogger:This is log message number 806\n",
            "DEBUG:MyLogger:This is log message number 807\n",
            "DEBUG:MyLogger:This is log message number 808\n",
            "DEBUG:MyLogger:This is log message number 809\n",
            "DEBUG:MyLogger:This is log message number 810\n",
            "DEBUG:MyLogger:This is log message number 811\n",
            "DEBUG:MyLogger:This is log message number 812\n",
            "DEBUG:MyLogger:This is log message number 813\n",
            "DEBUG:MyLogger:This is log message number 814\n",
            "DEBUG:MyLogger:This is log message number 815\n",
            "DEBUG:MyLogger:This is log message number 816\n",
            "DEBUG:MyLogger:This is log message number 817\n",
            "DEBUG:MyLogger:This is log message number 818\n",
            "DEBUG:MyLogger:This is log message number 819\n",
            "DEBUG:MyLogger:This is log message number 820\n",
            "DEBUG:MyLogger:This is log message number 821\n",
            "DEBUG:MyLogger:This is log message number 822\n",
            "DEBUG:MyLogger:This is log message number 823\n",
            "DEBUG:MyLogger:This is log message number 824\n",
            "DEBUG:MyLogger:This is log message number 825\n",
            "DEBUG:MyLogger:This is log message number 826\n",
            "DEBUG:MyLogger:This is log message number 827\n",
            "DEBUG:MyLogger:This is log message number 828\n",
            "DEBUG:MyLogger:This is log message number 829\n",
            "DEBUG:MyLogger:This is log message number 830\n",
            "DEBUG:MyLogger:This is log message number 831\n",
            "DEBUG:MyLogger:This is log message number 832\n",
            "DEBUG:MyLogger:This is log message number 833\n",
            "DEBUG:MyLogger:This is log message number 834\n",
            "DEBUG:MyLogger:This is log message number 835\n",
            "DEBUG:MyLogger:This is log message number 836\n",
            "DEBUG:MyLogger:This is log message number 837\n",
            "DEBUG:MyLogger:This is log message number 838\n",
            "DEBUG:MyLogger:This is log message number 839\n",
            "DEBUG:MyLogger:This is log message number 840\n",
            "DEBUG:MyLogger:This is log message number 841\n",
            "DEBUG:MyLogger:This is log message number 842\n",
            "DEBUG:MyLogger:This is log message number 843\n",
            "DEBUG:MyLogger:This is log message number 844\n",
            "DEBUG:MyLogger:This is log message number 845\n",
            "DEBUG:MyLogger:This is log message number 846\n",
            "DEBUG:MyLogger:This is log message number 847\n",
            "DEBUG:MyLogger:This is log message number 848\n",
            "DEBUG:MyLogger:This is log message number 849\n",
            "DEBUG:MyLogger:This is log message number 850\n",
            "DEBUG:MyLogger:This is log message number 851\n",
            "DEBUG:MyLogger:This is log message number 852\n",
            "DEBUG:MyLogger:This is log message number 853\n",
            "DEBUG:MyLogger:This is log message number 854\n",
            "DEBUG:MyLogger:This is log message number 855\n",
            "DEBUG:MyLogger:This is log message number 856\n",
            "DEBUG:MyLogger:This is log message number 857\n",
            "DEBUG:MyLogger:This is log message number 858\n",
            "DEBUG:MyLogger:This is log message number 859\n",
            "DEBUG:MyLogger:This is log message number 860\n",
            "DEBUG:MyLogger:This is log message number 861\n",
            "DEBUG:MyLogger:This is log message number 862\n",
            "DEBUG:MyLogger:This is log message number 863\n",
            "DEBUG:MyLogger:This is log message number 864\n",
            "DEBUG:MyLogger:This is log message number 865\n",
            "DEBUG:MyLogger:This is log message number 866\n",
            "DEBUG:MyLogger:This is log message number 867\n",
            "DEBUG:MyLogger:This is log message number 868\n",
            "DEBUG:MyLogger:This is log message number 869\n",
            "DEBUG:MyLogger:This is log message number 870\n",
            "DEBUG:MyLogger:This is log message number 871\n",
            "DEBUG:MyLogger:This is log message number 872\n",
            "DEBUG:MyLogger:This is log message number 873\n",
            "DEBUG:MyLogger:This is log message number 874\n",
            "DEBUG:MyLogger:This is log message number 875\n",
            "DEBUG:MyLogger:This is log message number 876\n",
            "DEBUG:MyLogger:This is log message number 877\n",
            "DEBUG:MyLogger:This is log message number 878\n",
            "DEBUG:MyLogger:This is log message number 879\n",
            "DEBUG:MyLogger:This is log message number 880\n",
            "DEBUG:MyLogger:This is log message number 881\n",
            "DEBUG:MyLogger:This is log message number 882\n",
            "DEBUG:MyLogger:This is log message number 883\n",
            "DEBUG:MyLogger:This is log message number 884\n",
            "DEBUG:MyLogger:This is log message number 885\n",
            "DEBUG:MyLogger:This is log message number 886\n",
            "DEBUG:MyLogger:This is log message number 887\n",
            "DEBUG:MyLogger:This is log message number 888\n",
            "DEBUG:MyLogger:This is log message number 889\n",
            "DEBUG:MyLogger:This is log message number 890\n",
            "DEBUG:MyLogger:This is log message number 891\n",
            "DEBUG:MyLogger:This is log message number 892\n",
            "DEBUG:MyLogger:This is log message number 893\n",
            "DEBUG:MyLogger:This is log message number 894\n",
            "DEBUG:MyLogger:This is log message number 895\n",
            "DEBUG:MyLogger:This is log message number 896\n",
            "DEBUG:MyLogger:This is log message number 897\n",
            "DEBUG:MyLogger:This is log message number 898\n",
            "DEBUG:MyLogger:This is log message number 899\n",
            "DEBUG:MyLogger:This is log message number 900\n",
            "DEBUG:MyLogger:This is log message number 901\n",
            "DEBUG:MyLogger:This is log message number 902\n",
            "DEBUG:MyLogger:This is log message number 903\n",
            "DEBUG:MyLogger:This is log message number 904\n",
            "DEBUG:MyLogger:This is log message number 905\n",
            "DEBUG:MyLogger:This is log message number 906\n",
            "DEBUG:MyLogger:This is log message number 907\n",
            "DEBUG:MyLogger:This is log message number 908\n",
            "DEBUG:MyLogger:This is log message number 909\n",
            "DEBUG:MyLogger:This is log message number 910\n",
            "DEBUG:MyLogger:This is log message number 911\n",
            "DEBUG:MyLogger:This is log message number 912\n",
            "DEBUG:MyLogger:This is log message number 913\n",
            "DEBUG:MyLogger:This is log message number 914\n",
            "DEBUG:MyLogger:This is log message number 915\n",
            "DEBUG:MyLogger:This is log message number 916\n",
            "DEBUG:MyLogger:This is log message number 917\n",
            "DEBUG:MyLogger:This is log message number 918\n",
            "DEBUG:MyLogger:This is log message number 919\n",
            "DEBUG:MyLogger:This is log message number 920\n",
            "DEBUG:MyLogger:This is log message number 921\n",
            "DEBUG:MyLogger:This is log message number 922\n",
            "DEBUG:MyLogger:This is log message number 923\n",
            "DEBUG:MyLogger:This is log message number 924\n",
            "DEBUG:MyLogger:This is log message number 925\n",
            "DEBUG:MyLogger:This is log message number 926\n",
            "DEBUG:MyLogger:This is log message number 927\n",
            "DEBUG:MyLogger:This is log message number 928\n",
            "DEBUG:MyLogger:This is log message number 929\n",
            "DEBUG:MyLogger:This is log message number 930\n",
            "DEBUG:MyLogger:This is log message number 931\n",
            "DEBUG:MyLogger:This is log message number 932\n",
            "DEBUG:MyLogger:This is log message number 933\n",
            "DEBUG:MyLogger:This is log message number 934\n",
            "DEBUG:MyLogger:This is log message number 935\n",
            "DEBUG:MyLogger:This is log message number 936\n",
            "DEBUG:MyLogger:This is log message number 937\n",
            "DEBUG:MyLogger:This is log message number 938\n",
            "DEBUG:MyLogger:This is log message number 939\n",
            "DEBUG:MyLogger:This is log message number 940\n",
            "DEBUG:MyLogger:This is log message number 941\n",
            "DEBUG:MyLogger:This is log message number 942\n",
            "DEBUG:MyLogger:This is log message number 943\n",
            "DEBUG:MyLogger:This is log message number 944\n",
            "DEBUG:MyLogger:This is log message number 945\n",
            "DEBUG:MyLogger:This is log message number 946\n",
            "DEBUG:MyLogger:This is log message number 947\n",
            "DEBUG:MyLogger:This is log message number 948\n",
            "DEBUG:MyLogger:This is log message number 949\n",
            "DEBUG:MyLogger:This is log message number 950\n",
            "DEBUG:MyLogger:This is log message number 951\n",
            "DEBUG:MyLogger:This is log message number 952\n",
            "DEBUG:MyLogger:This is log message number 953\n",
            "DEBUG:MyLogger:This is log message number 954\n",
            "DEBUG:MyLogger:This is log message number 955\n",
            "DEBUG:MyLogger:This is log message number 956\n",
            "DEBUG:MyLogger:This is log message number 957\n",
            "DEBUG:MyLogger:This is log message number 958\n",
            "DEBUG:MyLogger:This is log message number 959\n",
            "DEBUG:MyLogger:This is log message number 960\n",
            "DEBUG:MyLogger:This is log message number 961\n",
            "DEBUG:MyLogger:This is log message number 962\n",
            "DEBUG:MyLogger:This is log message number 963\n",
            "DEBUG:MyLogger:This is log message number 964\n",
            "DEBUG:MyLogger:This is log message number 965\n",
            "DEBUG:MyLogger:This is log message number 966\n",
            "DEBUG:MyLogger:This is log message number 967\n",
            "DEBUG:MyLogger:This is log message number 968\n",
            "DEBUG:MyLogger:This is log message number 969\n",
            "DEBUG:MyLogger:This is log message number 970\n",
            "DEBUG:MyLogger:This is log message number 971\n",
            "DEBUG:MyLogger:This is log message number 972\n",
            "DEBUG:MyLogger:This is log message number 973\n",
            "DEBUG:MyLogger:This is log message number 974\n",
            "DEBUG:MyLogger:This is log message number 975\n",
            "DEBUG:MyLogger:This is log message number 976\n",
            "DEBUG:MyLogger:This is log message number 977\n",
            "DEBUG:MyLogger:This is log message number 978\n",
            "DEBUG:MyLogger:This is log message number 979\n",
            "DEBUG:MyLogger:This is log message number 980\n",
            "DEBUG:MyLogger:This is log message number 981\n",
            "DEBUG:MyLogger:This is log message number 982\n",
            "DEBUG:MyLogger:This is log message number 983\n",
            "DEBUG:MyLogger:This is log message number 984\n",
            "DEBUG:MyLogger:This is log message number 985\n",
            "DEBUG:MyLogger:This is log message number 986\n",
            "DEBUG:MyLogger:This is log message number 987\n",
            "DEBUG:MyLogger:This is log message number 988\n",
            "DEBUG:MyLogger:This is log message number 989\n",
            "DEBUG:MyLogger:This is log message number 990\n",
            "DEBUG:MyLogger:This is log message number 991\n",
            "DEBUG:MyLogger:This is log message number 992\n",
            "DEBUG:MyLogger:This is log message number 993\n",
            "DEBUG:MyLogger:This is log message number 994\n",
            "DEBUG:MyLogger:This is log message number 995\n",
            "DEBUG:MyLogger:This is log message number 996\n",
            "DEBUG:MyLogger:This is log message number 997\n",
            "DEBUG:MyLogger:This is log message number 998\n",
            "DEBUG:MyLogger:This is log message number 999\n"
          ]
        }
      ]
    },
    {
      "cell_type": "markdown",
      "source": [
        "#19. Write a program that handles both IndexError and KeyError using a try-except block."
      ],
      "metadata": {
        "id": "hpULwfjXvRUK"
      }
    },
    {
      "cell_type": "code",
      "source": [
        "def handle_exceptions():\n",
        "    my_list = [10, 20, 30]\n",
        "    my_dict = {\"a\": 1, \"b\": 2, \"c\": 3}\n",
        "\n",
        "    try:\n",
        "        print(my_list[5])\n",
        "        print(my_dict[\"z\"])\n",
        "\n",
        "    except IndexError:\n",
        "        print(\"Error: Tried to access an invalid index in the list.\")\n",
        "    except KeyError:\n",
        "        print(\"Error: Tried to access a non-existent key in the dictionary.\")\n",
        "\n",
        "handle_exceptions()\n"
      ],
      "metadata": {
        "colab": {
          "base_uri": "https://localhost:8080/"
        },
        "id": "qiWxWTwKxCsp",
        "outputId": "ae7c8de2-4273-41a7-f852-977a99d4f544"
      },
      "execution_count": 5,
      "outputs": [
        {
          "output_type": "stream",
          "name": "stdout",
          "text": [
            "Error: Tried to access an invalid index in the list.\n"
          ]
        }
      ]
    },
    {
      "cell_type": "markdown",
      "source": [
        "#20. How would you open a file and read its contents using a context manager in Python?"
      ],
      "metadata": {
        "id": "5fF1Gq2yvVld"
      }
    },
    {
      "cell_type": "code",
      "source": [
        "file_path = 'example.txt'\n",
        "\n",
        "try:\n",
        "    with open(file_path, 'r') as file:\n",
        "        content = file.read()\n",
        "        print(content)\n",
        "except FileNotFoundError:\n",
        "    print(f\"Error: The file '{file_path}' does not exist.\")\n",
        "except Exception as e:\n",
        "    print(f\"An unexpected error occurred: {str(e)}\")\n"
      ],
      "metadata": {
        "colab": {
          "base_uri": "https://localhost:8080/"
        },
        "id": "BfqeEBkrwv_P",
        "outputId": "5c8e0adc-f914-4246-dc17-b244e5491d49"
      },
      "execution_count": 4,
      "outputs": [
        {
          "output_type": "stream",
          "name": "stdout",
          "text": [
            "Error: The file 'example.txt' does not exist.\n"
          ]
        }
      ]
    },
    {
      "cell_type": "markdown",
      "source": [
        "#21. Write a Python program that reads a file and prints the number of occurrences of a specific word."
      ],
      "metadata": {
        "id": "Xi8hxbsCvbsS"
      }
    },
    {
      "cell_type": "code",
      "source": [
        "def count_word_occurrences(file_path, word):\n",
        "    try:\n",
        "        with open(file_path, 'r') as file:\n",
        "            content = file.read()\n",
        "\n",
        "        word_count = content.lower().split().count(word.lower())\n",
        "        print(f\"The word '{word}' occurs {word_count} time(s) in the file.\")\n",
        "\n",
        "    except FileNotFoundError:\n",
        "        print(f\"Error: The file '{file_path}' does not exist.\")\n",
        "    except Exception as e:\n",
        "        print(f\"An unexpected error occurred: {str(e)}\")\n",
        "\n",
        "file_path = 'example.txt'\n",
        "word = 'example'\n",
        "count_word_occurrences(file_path, word)"
      ],
      "metadata": {
        "colab": {
          "base_uri": "https://localhost:8080/"
        },
        "id": "3fpKWUu8wVXz",
        "outputId": "6b7a4cad-01cf-4eeb-8f76-a3bc2092743f"
      },
      "execution_count": 3,
      "outputs": [
        {
          "output_type": "stream",
          "name": "stdout",
          "text": [
            "Error: The file 'example.txt' does not exist.\n"
          ]
        }
      ]
    },
    {
      "cell_type": "markdown",
      "source": [
        "#22. How can you check if a file is empty before attempting to read its contents?"
      ],
      "metadata": {
        "id": "tLsXjuzyvf0K"
      }
    },
    {
      "cell_type": "code",
      "source": [
        "import os\n",
        "\n",
        "def is_file_empty(file_path):\n",
        "    if os.path.exists(file_path):\n",
        "        if os.path.getsize(file_path) == 0:\n",
        "            print(f\"The file '{file_path}' is empty.\")\n",
        "            return True\n",
        "        else:\n",
        "            print(f\"The file '{file_path}' is not empty.\")\n",
        "            return False\n",
        "    else:\n",
        "        print(f\"Error: The file '{file_path}' does not exist.\")\n",
        "        return None\n",
        "\n",
        "is_file_empty('example.txt')"
      ],
      "metadata": {
        "colab": {
          "base_uri": "https://localhost:8080/"
        },
        "id": "9OmFmogiwGcZ",
        "outputId": "82f47413-9c04-4662-d13a-c555c29c1e4e"
      },
      "execution_count": 2,
      "outputs": [
        {
          "output_type": "stream",
          "name": "stdout",
          "text": [
            "Error: The file 'example.txt' does not exist.\n"
          ]
        }
      ]
    },
    {
      "cell_type": "markdown",
      "source": [
        "#23. Write a Python program that writes to a log file when an error occurs during file handling."
      ],
      "metadata": {
        "id": "Y7a5k-HAvkUa"
      }
    },
    {
      "cell_type": "code",
      "source": [
        "import logging\n",
        "logging.basicConfig(filename='file_handling.log',\n",
        "                    level=logging.ERROR,\n",
        "                    format='%(asctime)s - %(levelname)s - %(message)s')\n",
        "\n",
        "def process_file(file_path):\n",
        "    try:\n",
        "        with open(file_path, 'r') as file:\n",
        "            content = file.read()\n",
        "            print(content)\n",
        "    except FileNotFoundError:\n",
        "        logging.error(\"FileNotFoundError: The file '%s' does not exist.\", file_path)\n",
        "        print(f\"Error: The file '{file_path}' does not exist.\")\n",
        "    except PermissionError:\n",
        "        logging.error(\"PermissionError: Insufficient permissions to access '%s'.\", file_path)\n",
        "        print(f\"Error: Insufficient permissions to access '{file_path}'.\")\n",
        "    except Exception as e:\n",
        "        logging.error(\"An unexpected error occurred: %s\", str(e))\n",
        "        print(f\"An unexpected error occurred: {str(e)}\")\n",
        "\n",
        "process_file('example.txt')"
      ],
      "metadata": {
        "colab": {
          "base_uri": "https://localhost:8080/"
        },
        "id": "eMx8I_bTvvdj",
        "outputId": "ae0d297b-01ed-4ba2-d333-0ae588677f46"
      },
      "execution_count": 1,
      "outputs": [
        {
          "output_type": "stream",
          "name": "stderr",
          "text": [
            "ERROR:root:FileNotFoundError: The file 'example.txt' does not exist.\n"
          ]
        },
        {
          "output_type": "stream",
          "name": "stdout",
          "text": [
            "Error: The file 'example.txt' does not exist.\n"
          ]
        }
      ]
    }
  ]
}